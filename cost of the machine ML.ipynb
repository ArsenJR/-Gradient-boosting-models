{
 "cells": [
  {
   "cell_type": "markdown",
   "metadata": {},
   "source": [
    "# Определение стоимости автомобилей"
   ]
  },
  {
   "cell_type": "markdown",
   "metadata": {},
   "source": [
    "В данном проекте необходимо смоделировать модель, с помощью которой можно будет быстро узнать рыночную стоимость своего автомобиля. В нашем распоряжении исторические данные: технические характеристики, комплектации и цены автомобилей. Вам нужно построить модель для определения стоимости. \n",
    "\n",
    "Заказчику важны:\n",
    "\n",
    "- качество предсказания;\n",
    "- скорость предсказания;\n",
    "- время обучения."
   ]
  },
  {
   "cell_type": "markdown",
   "metadata": {},
   "source": [
    "## Подготовка данных"
   ]
  },
  {
   "cell_type": "markdown",
   "metadata": {},
   "source": [
    "Подключим необходимые библиотеки:"
   ]
  },
  {
   "cell_type": "code",
   "execution_count": 1,
   "metadata": {},
   "outputs": [],
   "source": [
    "import pandas as pd\n",
    "import numpy as np\n",
    "import seaborn as sns\n",
    "import matplotlib.pyplot as plt\n",
    "from sklearn.model_selection import train_test_split\n",
    "from lightgbm import LGBMRegressor\n",
    "from sklearn.metrics import mean_squared_error\n",
    "from sklearn.preprocessing import OrdinalEncoder\n",
    "from sklearn.preprocessing import LabelEncoder\n",
    "from sklearn.ensemble import RandomForestRegressor\n",
    "from sklearn.model_selection import GridSearchCV\n",
    "from sklearn.dummy import DummyRegressor\n",
    "from sklearn.metrics.scorer import make_scorer\n",
    "from sklearn.tree import DecisionTreeRegressor"
   ]
  },
  {
   "cell_type": "markdown",
   "metadata": {},
   "source": [
    "Загрузим и изучим данные:"
   ]
  },
  {
   "cell_type": "code",
   "execution_count": 2,
   "metadata": {},
   "outputs": [],
   "source": [
    "data = pd.read_csv('/datasets/autos.csv')"
   ]
  },
  {
   "cell_type": "code",
   "execution_count": 3,
   "metadata": {},
   "outputs": [
    {
     "data": {
      "text/html": [
       "<div>\n",
       "<style scoped>\n",
       "    .dataframe tbody tr th:only-of-type {\n",
       "        vertical-align: middle;\n",
       "    }\n",
       "\n",
       "    .dataframe tbody tr th {\n",
       "        vertical-align: top;\n",
       "    }\n",
       "\n",
       "    .dataframe thead th {\n",
       "        text-align: right;\n",
       "    }\n",
       "</style>\n",
       "<table border=\"1\" class=\"dataframe\">\n",
       "  <thead>\n",
       "    <tr style=\"text-align: right;\">\n",
       "      <th></th>\n",
       "      <th>DateCrawled</th>\n",
       "      <th>Price</th>\n",
       "      <th>VehicleType</th>\n",
       "      <th>RegistrationYear</th>\n",
       "      <th>Gearbox</th>\n",
       "      <th>Power</th>\n",
       "      <th>Model</th>\n",
       "      <th>Kilometer</th>\n",
       "      <th>RegistrationMonth</th>\n",
       "      <th>FuelType</th>\n",
       "      <th>Brand</th>\n",
       "      <th>NotRepaired</th>\n",
       "      <th>DateCreated</th>\n",
       "      <th>NumberOfPictures</th>\n",
       "      <th>PostalCode</th>\n",
       "      <th>LastSeen</th>\n",
       "    </tr>\n",
       "  </thead>\n",
       "  <tbody>\n",
       "    <tr>\n",
       "      <td>0</td>\n",
       "      <td>2016-03-24 11:52:17</td>\n",
       "      <td>480</td>\n",
       "      <td>NaN</td>\n",
       "      <td>1993</td>\n",
       "      <td>manual</td>\n",
       "      <td>0</td>\n",
       "      <td>golf</td>\n",
       "      <td>150000</td>\n",
       "      <td>0</td>\n",
       "      <td>petrol</td>\n",
       "      <td>volkswagen</td>\n",
       "      <td>NaN</td>\n",
       "      <td>2016-03-24 00:00:00</td>\n",
       "      <td>0</td>\n",
       "      <td>70435</td>\n",
       "      <td>2016-04-07 03:16:57</td>\n",
       "    </tr>\n",
       "    <tr>\n",
       "      <td>1</td>\n",
       "      <td>2016-03-24 10:58:45</td>\n",
       "      <td>18300</td>\n",
       "      <td>coupe</td>\n",
       "      <td>2011</td>\n",
       "      <td>manual</td>\n",
       "      <td>190</td>\n",
       "      <td>NaN</td>\n",
       "      <td>125000</td>\n",
       "      <td>5</td>\n",
       "      <td>gasoline</td>\n",
       "      <td>audi</td>\n",
       "      <td>yes</td>\n",
       "      <td>2016-03-24 00:00:00</td>\n",
       "      <td>0</td>\n",
       "      <td>66954</td>\n",
       "      <td>2016-04-07 01:46:50</td>\n",
       "    </tr>\n",
       "    <tr>\n",
       "      <td>2</td>\n",
       "      <td>2016-03-14 12:52:21</td>\n",
       "      <td>9800</td>\n",
       "      <td>suv</td>\n",
       "      <td>2004</td>\n",
       "      <td>auto</td>\n",
       "      <td>163</td>\n",
       "      <td>grand</td>\n",
       "      <td>125000</td>\n",
       "      <td>8</td>\n",
       "      <td>gasoline</td>\n",
       "      <td>jeep</td>\n",
       "      <td>NaN</td>\n",
       "      <td>2016-03-14 00:00:00</td>\n",
       "      <td>0</td>\n",
       "      <td>90480</td>\n",
       "      <td>2016-04-05 12:47:46</td>\n",
       "    </tr>\n",
       "    <tr>\n",
       "      <td>3</td>\n",
       "      <td>2016-03-17 16:54:04</td>\n",
       "      <td>1500</td>\n",
       "      <td>small</td>\n",
       "      <td>2001</td>\n",
       "      <td>manual</td>\n",
       "      <td>75</td>\n",
       "      <td>golf</td>\n",
       "      <td>150000</td>\n",
       "      <td>6</td>\n",
       "      <td>petrol</td>\n",
       "      <td>volkswagen</td>\n",
       "      <td>no</td>\n",
       "      <td>2016-03-17 00:00:00</td>\n",
       "      <td>0</td>\n",
       "      <td>91074</td>\n",
       "      <td>2016-03-17 17:40:17</td>\n",
       "    </tr>\n",
       "    <tr>\n",
       "      <td>4</td>\n",
       "      <td>2016-03-31 17:25:20</td>\n",
       "      <td>3600</td>\n",
       "      <td>small</td>\n",
       "      <td>2008</td>\n",
       "      <td>manual</td>\n",
       "      <td>69</td>\n",
       "      <td>fabia</td>\n",
       "      <td>90000</td>\n",
       "      <td>7</td>\n",
       "      <td>gasoline</td>\n",
       "      <td>skoda</td>\n",
       "      <td>no</td>\n",
       "      <td>2016-03-31 00:00:00</td>\n",
       "      <td>0</td>\n",
       "      <td>60437</td>\n",
       "      <td>2016-04-06 10:17:21</td>\n",
       "    </tr>\n",
       "  </tbody>\n",
       "</table>\n",
       "</div>"
      ],
      "text/plain": [
       "           DateCrawled  Price VehicleType  RegistrationYear Gearbox  Power  \\\n",
       "0  2016-03-24 11:52:17    480         NaN              1993  manual      0   \n",
       "1  2016-03-24 10:58:45  18300       coupe              2011  manual    190   \n",
       "2  2016-03-14 12:52:21   9800         suv              2004    auto    163   \n",
       "3  2016-03-17 16:54:04   1500       small              2001  manual     75   \n",
       "4  2016-03-31 17:25:20   3600       small              2008  manual     69   \n",
       "\n",
       "   Model  Kilometer  RegistrationMonth  FuelType       Brand NotRepaired  \\\n",
       "0   golf     150000                  0    petrol  volkswagen         NaN   \n",
       "1    NaN     125000                  5  gasoline        audi         yes   \n",
       "2  grand     125000                  8  gasoline        jeep         NaN   \n",
       "3   golf     150000                  6    petrol  volkswagen          no   \n",
       "4  fabia      90000                  7  gasoline       skoda          no   \n",
       "\n",
       "           DateCreated  NumberOfPictures  PostalCode             LastSeen  \n",
       "0  2016-03-24 00:00:00                 0       70435  2016-04-07 03:16:57  \n",
       "1  2016-03-24 00:00:00                 0       66954  2016-04-07 01:46:50  \n",
       "2  2016-03-14 00:00:00                 0       90480  2016-04-05 12:47:46  \n",
       "3  2016-03-17 00:00:00                 0       91074  2016-03-17 17:40:17  \n",
       "4  2016-03-31 00:00:00                 0       60437  2016-04-06 10:17:21  "
      ]
     },
     "execution_count": 3,
     "metadata": {},
     "output_type": "execute_result"
    }
   ],
   "source": [
    "data.head()"
   ]
  },
  {
   "cell_type": "code",
   "execution_count": 4,
   "metadata": {},
   "outputs": [
    {
     "name": "stdout",
     "output_type": "stream",
     "text": [
      "<class 'pandas.core.frame.DataFrame'>\n",
      "RangeIndex: 354369 entries, 0 to 354368\n",
      "Data columns (total 16 columns):\n",
      "DateCrawled          354369 non-null object\n",
      "Price                354369 non-null int64\n",
      "VehicleType          316879 non-null object\n",
      "RegistrationYear     354369 non-null int64\n",
      "Gearbox              334536 non-null object\n",
      "Power                354369 non-null int64\n",
      "Model                334664 non-null object\n",
      "Kilometer            354369 non-null int64\n",
      "RegistrationMonth    354369 non-null int64\n",
      "FuelType             321474 non-null object\n",
      "Brand                354369 non-null object\n",
      "NotRepaired          283215 non-null object\n",
      "DateCreated          354369 non-null object\n",
      "NumberOfPictures     354369 non-null int64\n",
      "PostalCode           354369 non-null int64\n",
      "LastSeen             354369 non-null object\n",
      "dtypes: int64(7), object(9)\n",
      "memory usage: 43.3+ MB\n"
     ]
    }
   ],
   "source": [
    "data.info()"
   ]
  },
  {
   "cell_type": "markdown",
   "metadata": {},
   "source": [
    "В наших данных 16 прихнаков:\n",
    "*\tDateCrawled — дата скачивания анкеты из базы\n",
    "*\tVehicleType — тип автомобильного кузова\n",
    "*\tRegistrationYear — год регистрации автомобиля\n",
    "*\tGearbox — тип коробки передач\n",
    "*\tPower — мощность (л. с.)\n",
    "*\tModel — модель автомобиля\n",
    "*\tKilometer — пробег (км)\n",
    "*\tRegistrationMonth — месяц регистрации автомобиля\n",
    "*\tFuelType — тип топлива\n",
    "*\tBrand — марка автомобиля\n",
    "*\tNotRepaired — была машина в ремонте или нет\n",
    "*\tDateCreated — дата создания анкеты\n",
    "*\tNumberOfPictures — количество фотографий автомобиля\n",
    "*\tPostalCode — почтовый индекс владельца анкеты (пользователя)\n",
    "*\tLastSeen — дата последней активности пользователя\n",
    "*\tPrice — цена (евро)\n",
    "\n",
    "Далее посмотрим, в каких столбцах присутствуют пропуски:\n"
   ]
  },
  {
   "cell_type": "code",
   "execution_count": 5,
   "metadata": {},
   "outputs": [
    {
     "data": {
      "text/html": [
       "<style  type=\"text/css\" >\n",
       "    #T_fd993e80_5f6b_11ec_a71d_02420a393e1erow0_col0 {\n",
       "            background-color:  #fff7f3;\n",
       "            color:  #000000;\n",
       "        }    #T_fd993e80_5f6b_11ec_a71d_02420a393e1erow0_col1 {\n",
       "            background-color:  #fff7f3;\n",
       "            color:  #000000;\n",
       "        }    #T_fd993e80_5f6b_11ec_a71d_02420a393e1erow1_col0 {\n",
       "            background-color:  #fff7f3;\n",
       "            color:  #000000;\n",
       "        }    #T_fd993e80_5f6b_11ec_a71d_02420a393e1erow1_col1 {\n",
       "            background-color:  #fff7f3;\n",
       "            color:  #000000;\n",
       "        }    #T_fd993e80_5f6b_11ec_a71d_02420a393e1erow2_col0 {\n",
       "            background-color:  #f25d9f;\n",
       "            color:  #000000;\n",
       "        }    #T_fd993e80_5f6b_11ec_a71d_02420a393e1erow2_col1 {\n",
       "            background-color:  #ed549d;\n",
       "            color:  #000000;\n",
       "        }    #T_fd993e80_5f6b_11ec_a71d_02420a393e1erow3_col0 {\n",
       "            background-color:  #fff7f3;\n",
       "            color:  #000000;\n",
       "        }    #T_fd993e80_5f6b_11ec_a71d_02420a393e1erow3_col1 {\n",
       "            background-color:  #fff7f3;\n",
       "            color:  #000000;\n",
       "        }    #T_fd993e80_5f6b_11ec_a71d_02420a393e1erow4_col0 {\n",
       "            background-color:  #fcbcbd;\n",
       "            color:  #000000;\n",
       "        }    #T_fd993e80_5f6b_11ec_a71d_02420a393e1erow4_col1 {\n",
       "            background-color:  #fbb6bc;\n",
       "            color:  #000000;\n",
       "        }    #T_fd993e80_5f6b_11ec_a71d_02420a393e1erow5_col0 {\n",
       "            background-color:  #fff7f3;\n",
       "            color:  #000000;\n",
       "        }    #T_fd993e80_5f6b_11ec_a71d_02420a393e1erow5_col1 {\n",
       "            background-color:  #fff7f3;\n",
       "            color:  #000000;\n",
       "        }    #T_fd993e80_5f6b_11ec_a71d_02420a393e1erow6_col0 {\n",
       "            background-color:  #fcbebe;\n",
       "            color:  #000000;\n",
       "        }    #T_fd993e80_5f6b_11ec_a71d_02420a393e1erow6_col1 {\n",
       "            background-color:  #fbb6bc;\n",
       "            color:  #000000;\n",
       "        }    #T_fd993e80_5f6b_11ec_a71d_02420a393e1erow7_col0 {\n",
       "            background-color:  #fff7f3;\n",
       "            color:  #000000;\n",
       "        }    #T_fd993e80_5f6b_11ec_a71d_02420a393e1erow7_col1 {\n",
       "            background-color:  #fff7f3;\n",
       "            color:  #000000;\n",
       "        }    #T_fd993e80_5f6b_11ec_a71d_02420a393e1erow8_col0 {\n",
       "            background-color:  #fff7f3;\n",
       "            color:  #000000;\n",
       "        }    #T_fd993e80_5f6b_11ec_a71d_02420a393e1erow8_col1 {\n",
       "            background-color:  #fff7f3;\n",
       "            color:  #000000;\n",
       "        }    #T_fd993e80_5f6b_11ec_a71d_02420a393e1erow9_col0 {\n",
       "            background-color:  #f878a7;\n",
       "            color:  #000000;\n",
       "        }    #T_fd993e80_5f6b_11ec_a71d_02420a393e1erow9_col1 {\n",
       "            background-color:  #f87ea9;\n",
       "            color:  #000000;\n",
       "        }    #T_fd993e80_5f6b_11ec_a71d_02420a393e1erow10_col0 {\n",
       "            background-color:  #fff7f3;\n",
       "            color:  #000000;\n",
       "        }    #T_fd993e80_5f6b_11ec_a71d_02420a393e1erow10_col1 {\n",
       "            background-color:  #fff7f3;\n",
       "            color:  #000000;\n",
       "        }    #T_fd993e80_5f6b_11ec_a71d_02420a393e1erow11_col0 {\n",
       "            background-color:  #49006a;\n",
       "            color:  #f1f1f1;\n",
       "        }    #T_fd993e80_5f6b_11ec_a71d_02420a393e1erow11_col1 {\n",
       "            background-color:  #49006a;\n",
       "            color:  #f1f1f1;\n",
       "        }    #T_fd993e80_5f6b_11ec_a71d_02420a393e1erow12_col0 {\n",
       "            background-color:  #fff7f3;\n",
       "            color:  #000000;\n",
       "        }    #T_fd993e80_5f6b_11ec_a71d_02420a393e1erow12_col1 {\n",
       "            background-color:  #fff7f3;\n",
       "            color:  #000000;\n",
       "        }    #T_fd993e80_5f6b_11ec_a71d_02420a393e1erow13_col0 {\n",
       "            background-color:  #fff7f3;\n",
       "            color:  #000000;\n",
       "        }    #T_fd993e80_5f6b_11ec_a71d_02420a393e1erow13_col1 {\n",
       "            background-color:  #fff7f3;\n",
       "            color:  #000000;\n",
       "        }    #T_fd993e80_5f6b_11ec_a71d_02420a393e1erow14_col0 {\n",
       "            background-color:  #fff7f3;\n",
       "            color:  #000000;\n",
       "        }    #T_fd993e80_5f6b_11ec_a71d_02420a393e1erow14_col1 {\n",
       "            background-color:  #fff7f3;\n",
       "            color:  #000000;\n",
       "        }    #T_fd993e80_5f6b_11ec_a71d_02420a393e1erow15_col0 {\n",
       "            background-color:  #fff7f3;\n",
       "            color:  #000000;\n",
       "        }    #T_fd993e80_5f6b_11ec_a71d_02420a393e1erow15_col1 {\n",
       "            background-color:  #fff7f3;\n",
       "            color:  #000000;\n",
       "        }</style><table id=\"T_fd993e80_5f6b_11ec_a71d_02420a393e1e\" ><thead>    <tr>        <th class=\"blank level0\" ></th>        <th class=\"col_heading level0 col0\" >missing values</th>        <th class=\"col_heading level0 col1\" >% of total</th>    </tr></thead><tbody>\n",
       "                <tr>\n",
       "                        <th id=\"T_fd993e80_5f6b_11ec_a71d_02420a393e1elevel0_row0\" class=\"row_heading level0 row0\" >DateCrawled</th>\n",
       "                        <td id=\"T_fd993e80_5f6b_11ec_a71d_02420a393e1erow0_col0\" class=\"data row0 col0\" >0</td>\n",
       "                        <td id=\"T_fd993e80_5f6b_11ec_a71d_02420a393e1erow0_col1\" class=\"data row0 col1\" >0</td>\n",
       "            </tr>\n",
       "            <tr>\n",
       "                        <th id=\"T_fd993e80_5f6b_11ec_a71d_02420a393e1elevel0_row1\" class=\"row_heading level0 row1\" >Price</th>\n",
       "                        <td id=\"T_fd993e80_5f6b_11ec_a71d_02420a393e1erow1_col0\" class=\"data row1 col0\" >0</td>\n",
       "                        <td id=\"T_fd993e80_5f6b_11ec_a71d_02420a393e1erow1_col1\" class=\"data row1 col1\" >0</td>\n",
       "            </tr>\n",
       "            <tr>\n",
       "                        <th id=\"T_fd993e80_5f6b_11ec_a71d_02420a393e1elevel0_row2\" class=\"row_heading level0 row2\" >VehicleType</th>\n",
       "                        <td id=\"T_fd993e80_5f6b_11ec_a71d_02420a393e1erow2_col0\" class=\"data row2 col0\" >37490</td>\n",
       "                        <td id=\"T_fd993e80_5f6b_11ec_a71d_02420a393e1erow2_col1\" class=\"data row2 col1\" >0.11</td>\n",
       "            </tr>\n",
       "            <tr>\n",
       "                        <th id=\"T_fd993e80_5f6b_11ec_a71d_02420a393e1elevel0_row3\" class=\"row_heading level0 row3\" >RegistrationYear</th>\n",
       "                        <td id=\"T_fd993e80_5f6b_11ec_a71d_02420a393e1erow3_col0\" class=\"data row3 col0\" >0</td>\n",
       "                        <td id=\"T_fd993e80_5f6b_11ec_a71d_02420a393e1erow3_col1\" class=\"data row3 col1\" >0</td>\n",
       "            </tr>\n",
       "            <tr>\n",
       "                        <th id=\"T_fd993e80_5f6b_11ec_a71d_02420a393e1elevel0_row4\" class=\"row_heading level0 row4\" >Gearbox</th>\n",
       "                        <td id=\"T_fd993e80_5f6b_11ec_a71d_02420a393e1erow4_col0\" class=\"data row4 col0\" >19833</td>\n",
       "                        <td id=\"T_fd993e80_5f6b_11ec_a71d_02420a393e1erow4_col1\" class=\"data row4 col1\" >0.06</td>\n",
       "            </tr>\n",
       "            <tr>\n",
       "                        <th id=\"T_fd993e80_5f6b_11ec_a71d_02420a393e1elevel0_row5\" class=\"row_heading level0 row5\" >Power</th>\n",
       "                        <td id=\"T_fd993e80_5f6b_11ec_a71d_02420a393e1erow5_col0\" class=\"data row5 col0\" >0</td>\n",
       "                        <td id=\"T_fd993e80_5f6b_11ec_a71d_02420a393e1erow5_col1\" class=\"data row5 col1\" >0</td>\n",
       "            </tr>\n",
       "            <tr>\n",
       "                        <th id=\"T_fd993e80_5f6b_11ec_a71d_02420a393e1elevel0_row6\" class=\"row_heading level0 row6\" >Model</th>\n",
       "                        <td id=\"T_fd993e80_5f6b_11ec_a71d_02420a393e1erow6_col0\" class=\"data row6 col0\" >19705</td>\n",
       "                        <td id=\"T_fd993e80_5f6b_11ec_a71d_02420a393e1erow6_col1\" class=\"data row6 col1\" >0.06</td>\n",
       "            </tr>\n",
       "            <tr>\n",
       "                        <th id=\"T_fd993e80_5f6b_11ec_a71d_02420a393e1elevel0_row7\" class=\"row_heading level0 row7\" >Kilometer</th>\n",
       "                        <td id=\"T_fd993e80_5f6b_11ec_a71d_02420a393e1erow7_col0\" class=\"data row7 col0\" >0</td>\n",
       "                        <td id=\"T_fd993e80_5f6b_11ec_a71d_02420a393e1erow7_col1\" class=\"data row7 col1\" >0</td>\n",
       "            </tr>\n",
       "            <tr>\n",
       "                        <th id=\"T_fd993e80_5f6b_11ec_a71d_02420a393e1elevel0_row8\" class=\"row_heading level0 row8\" >RegistrationMonth</th>\n",
       "                        <td id=\"T_fd993e80_5f6b_11ec_a71d_02420a393e1erow8_col0\" class=\"data row8 col0\" >0</td>\n",
       "                        <td id=\"T_fd993e80_5f6b_11ec_a71d_02420a393e1erow8_col1\" class=\"data row8 col1\" >0</td>\n",
       "            </tr>\n",
       "            <tr>\n",
       "                        <th id=\"T_fd993e80_5f6b_11ec_a71d_02420a393e1elevel0_row9\" class=\"row_heading level0 row9\" >FuelType</th>\n",
       "                        <td id=\"T_fd993e80_5f6b_11ec_a71d_02420a393e1erow9_col0\" class=\"data row9 col0\" >32895</td>\n",
       "                        <td id=\"T_fd993e80_5f6b_11ec_a71d_02420a393e1erow9_col1\" class=\"data row9 col1\" >0.09</td>\n",
       "            </tr>\n",
       "            <tr>\n",
       "                        <th id=\"T_fd993e80_5f6b_11ec_a71d_02420a393e1elevel0_row10\" class=\"row_heading level0 row10\" >Brand</th>\n",
       "                        <td id=\"T_fd993e80_5f6b_11ec_a71d_02420a393e1erow10_col0\" class=\"data row10 col0\" >0</td>\n",
       "                        <td id=\"T_fd993e80_5f6b_11ec_a71d_02420a393e1erow10_col1\" class=\"data row10 col1\" >0</td>\n",
       "            </tr>\n",
       "            <tr>\n",
       "                        <th id=\"T_fd993e80_5f6b_11ec_a71d_02420a393e1elevel0_row11\" class=\"row_heading level0 row11\" >NotRepaired</th>\n",
       "                        <td id=\"T_fd993e80_5f6b_11ec_a71d_02420a393e1erow11_col0\" class=\"data row11 col0\" >71154</td>\n",
       "                        <td id=\"T_fd993e80_5f6b_11ec_a71d_02420a393e1erow11_col1\" class=\"data row11 col1\" >0.2</td>\n",
       "            </tr>\n",
       "            <tr>\n",
       "                        <th id=\"T_fd993e80_5f6b_11ec_a71d_02420a393e1elevel0_row12\" class=\"row_heading level0 row12\" >DateCreated</th>\n",
       "                        <td id=\"T_fd993e80_5f6b_11ec_a71d_02420a393e1erow12_col0\" class=\"data row12 col0\" >0</td>\n",
       "                        <td id=\"T_fd993e80_5f6b_11ec_a71d_02420a393e1erow12_col1\" class=\"data row12 col1\" >0</td>\n",
       "            </tr>\n",
       "            <tr>\n",
       "                        <th id=\"T_fd993e80_5f6b_11ec_a71d_02420a393e1elevel0_row13\" class=\"row_heading level0 row13\" >NumberOfPictures</th>\n",
       "                        <td id=\"T_fd993e80_5f6b_11ec_a71d_02420a393e1erow13_col0\" class=\"data row13 col0\" >0</td>\n",
       "                        <td id=\"T_fd993e80_5f6b_11ec_a71d_02420a393e1erow13_col1\" class=\"data row13 col1\" >0</td>\n",
       "            </tr>\n",
       "            <tr>\n",
       "                        <th id=\"T_fd993e80_5f6b_11ec_a71d_02420a393e1elevel0_row14\" class=\"row_heading level0 row14\" >PostalCode</th>\n",
       "                        <td id=\"T_fd993e80_5f6b_11ec_a71d_02420a393e1erow14_col0\" class=\"data row14 col0\" >0</td>\n",
       "                        <td id=\"T_fd993e80_5f6b_11ec_a71d_02420a393e1erow14_col1\" class=\"data row14 col1\" >0</td>\n",
       "            </tr>\n",
       "            <tr>\n",
       "                        <th id=\"T_fd993e80_5f6b_11ec_a71d_02420a393e1elevel0_row15\" class=\"row_heading level0 row15\" >LastSeen</th>\n",
       "                        <td id=\"T_fd993e80_5f6b_11ec_a71d_02420a393e1erow15_col0\" class=\"data row15 col0\" >0</td>\n",
       "                        <td id=\"T_fd993e80_5f6b_11ec_a71d_02420a393e1erow15_col1\" class=\"data row15 col1\" >0</td>\n",
       "            </tr>\n",
       "    </tbody></table>"
      ],
      "text/plain": [
       "<pandas.io.formats.style.Styler at 0x7f7347b14c10>"
      ]
     },
     "execution_count": 5,
     "metadata": {},
     "output_type": "execute_result"
    }
   ],
   "source": [
    "report = data.isna().sum().to_frame()\n",
    "report = report.rename(columns = {0 : 'missing values'})\n",
    "report['% of total'] = (report['missing values'] / data.shape[0]).round(2)\n",
    "report.style.background_gradient(cmap = 'RdPu')"
   ]
  },
  {
   "cell_type": "markdown",
   "metadata": {},
   "source": [
    "Все признаки, в которых мы нашли пропуски, категориальные, значит на статистические данные мы их не заменим. Предлагаю заполнить их словом “unknown”. Это лучше, чем удалить большой объём данных. Но все же немного данных мы удалим, удалим строки, в которых пропуски во всех 5ти признаках, такие строки могут сильно запутать модель."
   ]
  },
  {
   "cell_type": "code",
   "execution_count": 6,
   "metadata": {},
   "outputs": [
    {
     "name": "stdout",
     "output_type": "stream",
     "text": [
      "Доля ячеек, где пропуске во всех пяти признаках: 0.63%\n"
     ]
    }
   ],
   "source": [
    "# выберем строки, в которых отсутствуют значения сразу в 5-ти еаших признаков\n",
    "col_name = list(report[report['missing values'] != 0].index)\n",
    "col_name\n",
    "row_for_drop = data\n",
    "for col in col_name:\n",
    "    row_for_drop = row_for_drop[row_for_drop[col].isna()]\n",
    "print(f'Доля ячеек, где пропуске во всех пяти признаках: {row_for_drop.shape[0] / data.shape[0]:.2%}')"
   ]
  },
  {
   "cell_type": "markdown",
   "metadata": {},
   "source": [
    "Меньше процента, удаляем без зазрения совести."
   ]
  },
  {
   "cell_type": "code",
   "execution_count": 7,
   "metadata": {},
   "outputs": [],
   "source": [
    "# удаляем объекты из датасета\n",
    "data.drop(index = row_for_drop.index, inplace=True)\n",
    "\n",
    "# обновляем индексы\n",
    "data.reset_index(drop=True, inplace=True)\n",
    "\n",
    "# заполняем пропуски ключевым словом:\n",
    "data.fillna('unknown',inplace=True)"
   ]
  },
  {
   "cell_type": "code",
   "execution_count": 8,
   "metadata": {},
   "outputs": [
    {
     "data": {
      "text/html": [
       "<style  type=\"text/css\" >\n",
       "    #T_fdfd371e_5f6b_11ec_a71d_02420a393e1erow0_col0 {\n",
       "            background-color:  #fff7f3;\n",
       "            color:  #000000;\n",
       "        }    #T_fdfd371e_5f6b_11ec_a71d_02420a393e1erow0_col1 {\n",
       "            background-color:  #fff7f3;\n",
       "            color:  #000000;\n",
       "        }    #T_fdfd371e_5f6b_11ec_a71d_02420a393e1erow1_col0 {\n",
       "            background-color:  #fff7f3;\n",
       "            color:  #000000;\n",
       "        }    #T_fdfd371e_5f6b_11ec_a71d_02420a393e1erow1_col1 {\n",
       "            background-color:  #fff7f3;\n",
       "            color:  #000000;\n",
       "        }    #T_fdfd371e_5f6b_11ec_a71d_02420a393e1erow2_col0 {\n",
       "            background-color:  #fff7f3;\n",
       "            color:  #000000;\n",
       "        }    #T_fdfd371e_5f6b_11ec_a71d_02420a393e1erow2_col1 {\n",
       "            background-color:  #fff7f3;\n",
       "            color:  #000000;\n",
       "        }    #T_fdfd371e_5f6b_11ec_a71d_02420a393e1erow3_col0 {\n",
       "            background-color:  #fff7f3;\n",
       "            color:  #000000;\n",
       "        }    #T_fdfd371e_5f6b_11ec_a71d_02420a393e1erow3_col1 {\n",
       "            background-color:  #fff7f3;\n",
       "            color:  #000000;\n",
       "        }    #T_fdfd371e_5f6b_11ec_a71d_02420a393e1erow4_col0 {\n",
       "            background-color:  #fff7f3;\n",
       "            color:  #000000;\n",
       "        }    #T_fdfd371e_5f6b_11ec_a71d_02420a393e1erow4_col1 {\n",
       "            background-color:  #fff7f3;\n",
       "            color:  #000000;\n",
       "        }    #T_fdfd371e_5f6b_11ec_a71d_02420a393e1erow5_col0 {\n",
       "            background-color:  #fff7f3;\n",
       "            color:  #000000;\n",
       "        }    #T_fdfd371e_5f6b_11ec_a71d_02420a393e1erow5_col1 {\n",
       "            background-color:  #fff7f3;\n",
       "            color:  #000000;\n",
       "        }    #T_fdfd371e_5f6b_11ec_a71d_02420a393e1erow6_col0 {\n",
       "            background-color:  #fff7f3;\n",
       "            color:  #000000;\n",
       "        }    #T_fdfd371e_5f6b_11ec_a71d_02420a393e1erow6_col1 {\n",
       "            background-color:  #fff7f3;\n",
       "            color:  #000000;\n",
       "        }    #T_fdfd371e_5f6b_11ec_a71d_02420a393e1erow7_col0 {\n",
       "            background-color:  #fff7f3;\n",
       "            color:  #000000;\n",
       "        }    #T_fdfd371e_5f6b_11ec_a71d_02420a393e1erow7_col1 {\n",
       "            background-color:  #fff7f3;\n",
       "            color:  #000000;\n",
       "        }    #T_fdfd371e_5f6b_11ec_a71d_02420a393e1erow8_col0 {\n",
       "            background-color:  #fff7f3;\n",
       "            color:  #000000;\n",
       "        }    #T_fdfd371e_5f6b_11ec_a71d_02420a393e1erow8_col1 {\n",
       "            background-color:  #fff7f3;\n",
       "            color:  #000000;\n",
       "        }    #T_fdfd371e_5f6b_11ec_a71d_02420a393e1erow9_col0 {\n",
       "            background-color:  #fff7f3;\n",
       "            color:  #000000;\n",
       "        }    #T_fdfd371e_5f6b_11ec_a71d_02420a393e1erow9_col1 {\n",
       "            background-color:  #fff7f3;\n",
       "            color:  #000000;\n",
       "        }    #T_fdfd371e_5f6b_11ec_a71d_02420a393e1erow10_col0 {\n",
       "            background-color:  #fff7f3;\n",
       "            color:  #000000;\n",
       "        }    #T_fdfd371e_5f6b_11ec_a71d_02420a393e1erow10_col1 {\n",
       "            background-color:  #fff7f3;\n",
       "            color:  #000000;\n",
       "        }    #T_fdfd371e_5f6b_11ec_a71d_02420a393e1erow11_col0 {\n",
       "            background-color:  #fff7f3;\n",
       "            color:  #000000;\n",
       "        }    #T_fdfd371e_5f6b_11ec_a71d_02420a393e1erow11_col1 {\n",
       "            background-color:  #fff7f3;\n",
       "            color:  #000000;\n",
       "        }    #T_fdfd371e_5f6b_11ec_a71d_02420a393e1erow12_col0 {\n",
       "            background-color:  #fff7f3;\n",
       "            color:  #000000;\n",
       "        }    #T_fdfd371e_5f6b_11ec_a71d_02420a393e1erow12_col1 {\n",
       "            background-color:  #fff7f3;\n",
       "            color:  #000000;\n",
       "        }    #T_fdfd371e_5f6b_11ec_a71d_02420a393e1erow13_col0 {\n",
       "            background-color:  #fff7f3;\n",
       "            color:  #000000;\n",
       "        }    #T_fdfd371e_5f6b_11ec_a71d_02420a393e1erow13_col1 {\n",
       "            background-color:  #fff7f3;\n",
       "            color:  #000000;\n",
       "        }    #T_fdfd371e_5f6b_11ec_a71d_02420a393e1erow14_col0 {\n",
       "            background-color:  #fff7f3;\n",
       "            color:  #000000;\n",
       "        }    #T_fdfd371e_5f6b_11ec_a71d_02420a393e1erow14_col1 {\n",
       "            background-color:  #fff7f3;\n",
       "            color:  #000000;\n",
       "        }    #T_fdfd371e_5f6b_11ec_a71d_02420a393e1erow15_col0 {\n",
       "            background-color:  #fff7f3;\n",
       "            color:  #000000;\n",
       "        }    #T_fdfd371e_5f6b_11ec_a71d_02420a393e1erow15_col1 {\n",
       "            background-color:  #fff7f3;\n",
       "            color:  #000000;\n",
       "        }</style><table id=\"T_fdfd371e_5f6b_11ec_a71d_02420a393e1e\" ><thead>    <tr>        <th class=\"blank level0\" ></th>        <th class=\"col_heading level0 col0\" >missing values</th>        <th class=\"col_heading level0 col1\" >% of total</th>    </tr></thead><tbody>\n",
       "                <tr>\n",
       "                        <th id=\"T_fdfd371e_5f6b_11ec_a71d_02420a393e1elevel0_row0\" class=\"row_heading level0 row0\" >DateCrawled</th>\n",
       "                        <td id=\"T_fdfd371e_5f6b_11ec_a71d_02420a393e1erow0_col0\" class=\"data row0 col0\" >0</td>\n",
       "                        <td id=\"T_fdfd371e_5f6b_11ec_a71d_02420a393e1erow0_col1\" class=\"data row0 col1\" >0</td>\n",
       "            </tr>\n",
       "            <tr>\n",
       "                        <th id=\"T_fdfd371e_5f6b_11ec_a71d_02420a393e1elevel0_row1\" class=\"row_heading level0 row1\" >Price</th>\n",
       "                        <td id=\"T_fdfd371e_5f6b_11ec_a71d_02420a393e1erow1_col0\" class=\"data row1 col0\" >0</td>\n",
       "                        <td id=\"T_fdfd371e_5f6b_11ec_a71d_02420a393e1erow1_col1\" class=\"data row1 col1\" >0</td>\n",
       "            </tr>\n",
       "            <tr>\n",
       "                        <th id=\"T_fdfd371e_5f6b_11ec_a71d_02420a393e1elevel0_row2\" class=\"row_heading level0 row2\" >VehicleType</th>\n",
       "                        <td id=\"T_fdfd371e_5f6b_11ec_a71d_02420a393e1erow2_col0\" class=\"data row2 col0\" >0</td>\n",
       "                        <td id=\"T_fdfd371e_5f6b_11ec_a71d_02420a393e1erow2_col1\" class=\"data row2 col1\" >0</td>\n",
       "            </tr>\n",
       "            <tr>\n",
       "                        <th id=\"T_fdfd371e_5f6b_11ec_a71d_02420a393e1elevel0_row3\" class=\"row_heading level0 row3\" >RegistrationYear</th>\n",
       "                        <td id=\"T_fdfd371e_5f6b_11ec_a71d_02420a393e1erow3_col0\" class=\"data row3 col0\" >0</td>\n",
       "                        <td id=\"T_fdfd371e_5f6b_11ec_a71d_02420a393e1erow3_col1\" class=\"data row3 col1\" >0</td>\n",
       "            </tr>\n",
       "            <tr>\n",
       "                        <th id=\"T_fdfd371e_5f6b_11ec_a71d_02420a393e1elevel0_row4\" class=\"row_heading level0 row4\" >Gearbox</th>\n",
       "                        <td id=\"T_fdfd371e_5f6b_11ec_a71d_02420a393e1erow4_col0\" class=\"data row4 col0\" >0</td>\n",
       "                        <td id=\"T_fdfd371e_5f6b_11ec_a71d_02420a393e1erow4_col1\" class=\"data row4 col1\" >0</td>\n",
       "            </tr>\n",
       "            <tr>\n",
       "                        <th id=\"T_fdfd371e_5f6b_11ec_a71d_02420a393e1elevel0_row5\" class=\"row_heading level0 row5\" >Power</th>\n",
       "                        <td id=\"T_fdfd371e_5f6b_11ec_a71d_02420a393e1erow5_col0\" class=\"data row5 col0\" >0</td>\n",
       "                        <td id=\"T_fdfd371e_5f6b_11ec_a71d_02420a393e1erow5_col1\" class=\"data row5 col1\" >0</td>\n",
       "            </tr>\n",
       "            <tr>\n",
       "                        <th id=\"T_fdfd371e_5f6b_11ec_a71d_02420a393e1elevel0_row6\" class=\"row_heading level0 row6\" >Model</th>\n",
       "                        <td id=\"T_fdfd371e_5f6b_11ec_a71d_02420a393e1erow6_col0\" class=\"data row6 col0\" >0</td>\n",
       "                        <td id=\"T_fdfd371e_5f6b_11ec_a71d_02420a393e1erow6_col1\" class=\"data row6 col1\" >0</td>\n",
       "            </tr>\n",
       "            <tr>\n",
       "                        <th id=\"T_fdfd371e_5f6b_11ec_a71d_02420a393e1elevel0_row7\" class=\"row_heading level0 row7\" >Kilometer</th>\n",
       "                        <td id=\"T_fdfd371e_5f6b_11ec_a71d_02420a393e1erow7_col0\" class=\"data row7 col0\" >0</td>\n",
       "                        <td id=\"T_fdfd371e_5f6b_11ec_a71d_02420a393e1erow7_col1\" class=\"data row7 col1\" >0</td>\n",
       "            </tr>\n",
       "            <tr>\n",
       "                        <th id=\"T_fdfd371e_5f6b_11ec_a71d_02420a393e1elevel0_row8\" class=\"row_heading level0 row8\" >RegistrationMonth</th>\n",
       "                        <td id=\"T_fdfd371e_5f6b_11ec_a71d_02420a393e1erow8_col0\" class=\"data row8 col0\" >0</td>\n",
       "                        <td id=\"T_fdfd371e_5f6b_11ec_a71d_02420a393e1erow8_col1\" class=\"data row8 col1\" >0</td>\n",
       "            </tr>\n",
       "            <tr>\n",
       "                        <th id=\"T_fdfd371e_5f6b_11ec_a71d_02420a393e1elevel0_row9\" class=\"row_heading level0 row9\" >FuelType</th>\n",
       "                        <td id=\"T_fdfd371e_5f6b_11ec_a71d_02420a393e1erow9_col0\" class=\"data row9 col0\" >0</td>\n",
       "                        <td id=\"T_fdfd371e_5f6b_11ec_a71d_02420a393e1erow9_col1\" class=\"data row9 col1\" >0</td>\n",
       "            </tr>\n",
       "            <tr>\n",
       "                        <th id=\"T_fdfd371e_5f6b_11ec_a71d_02420a393e1elevel0_row10\" class=\"row_heading level0 row10\" >Brand</th>\n",
       "                        <td id=\"T_fdfd371e_5f6b_11ec_a71d_02420a393e1erow10_col0\" class=\"data row10 col0\" >0</td>\n",
       "                        <td id=\"T_fdfd371e_5f6b_11ec_a71d_02420a393e1erow10_col1\" class=\"data row10 col1\" >0</td>\n",
       "            </tr>\n",
       "            <tr>\n",
       "                        <th id=\"T_fdfd371e_5f6b_11ec_a71d_02420a393e1elevel0_row11\" class=\"row_heading level0 row11\" >NotRepaired</th>\n",
       "                        <td id=\"T_fdfd371e_5f6b_11ec_a71d_02420a393e1erow11_col0\" class=\"data row11 col0\" >0</td>\n",
       "                        <td id=\"T_fdfd371e_5f6b_11ec_a71d_02420a393e1erow11_col1\" class=\"data row11 col1\" >0</td>\n",
       "            </tr>\n",
       "            <tr>\n",
       "                        <th id=\"T_fdfd371e_5f6b_11ec_a71d_02420a393e1elevel0_row12\" class=\"row_heading level0 row12\" >DateCreated</th>\n",
       "                        <td id=\"T_fdfd371e_5f6b_11ec_a71d_02420a393e1erow12_col0\" class=\"data row12 col0\" >0</td>\n",
       "                        <td id=\"T_fdfd371e_5f6b_11ec_a71d_02420a393e1erow12_col1\" class=\"data row12 col1\" >0</td>\n",
       "            </tr>\n",
       "            <tr>\n",
       "                        <th id=\"T_fdfd371e_5f6b_11ec_a71d_02420a393e1elevel0_row13\" class=\"row_heading level0 row13\" >NumberOfPictures</th>\n",
       "                        <td id=\"T_fdfd371e_5f6b_11ec_a71d_02420a393e1erow13_col0\" class=\"data row13 col0\" >0</td>\n",
       "                        <td id=\"T_fdfd371e_5f6b_11ec_a71d_02420a393e1erow13_col1\" class=\"data row13 col1\" >0</td>\n",
       "            </tr>\n",
       "            <tr>\n",
       "                        <th id=\"T_fdfd371e_5f6b_11ec_a71d_02420a393e1elevel0_row14\" class=\"row_heading level0 row14\" >PostalCode</th>\n",
       "                        <td id=\"T_fdfd371e_5f6b_11ec_a71d_02420a393e1erow14_col0\" class=\"data row14 col0\" >0</td>\n",
       "                        <td id=\"T_fdfd371e_5f6b_11ec_a71d_02420a393e1erow14_col1\" class=\"data row14 col1\" >0</td>\n",
       "            </tr>\n",
       "            <tr>\n",
       "                        <th id=\"T_fdfd371e_5f6b_11ec_a71d_02420a393e1elevel0_row15\" class=\"row_heading level0 row15\" >LastSeen</th>\n",
       "                        <td id=\"T_fdfd371e_5f6b_11ec_a71d_02420a393e1erow15_col0\" class=\"data row15 col0\" >0</td>\n",
       "                        <td id=\"T_fdfd371e_5f6b_11ec_a71d_02420a393e1erow15_col1\" class=\"data row15 col1\" >0</td>\n",
       "            </tr>\n",
       "    </tbody></table>"
      ],
      "text/plain": [
       "<pandas.io.formats.style.Styler at 0x7f72bef4ea50>"
      ]
     },
     "execution_count": 8,
     "metadata": {},
     "output_type": "execute_result"
    }
   ],
   "source": [
    "# проверим, от всех ли пропусков удалось избавиться \n",
    "report = data.isna().sum().to_frame()\n",
    "report = report.rename(columns = {0 : 'missing values'})\n",
    "report['% of total'] = (report['missing values'] / data.shape[0]).round(2)\n",
    "report.style.background_gradient(cmap = 'RdPu')"
   ]
  },
  {
   "cell_type": "markdown",
   "metadata": {},
   "source": [
    "С пропусками разобрались. Переходим к поиску и устранению аномальных значений, которые могут ухудшить нашу модель."
   ]
  },
  {
   "cell_type": "code",
   "execution_count": 9,
   "metadata": {},
   "outputs": [],
   "source": [
    "# заранее определим стиль для наших графиков\n",
    "plt.style.use('ggplot')"
   ]
  },
  {
   "cell_type": "code",
   "execution_count": 10,
   "metadata": {},
   "outputs": [
    {
     "data": {
      "text/html": [
       "<div>\n",
       "<style scoped>\n",
       "    .dataframe tbody tr th:only-of-type {\n",
       "        vertical-align: middle;\n",
       "    }\n",
       "\n",
       "    .dataframe tbody tr th {\n",
       "        vertical-align: top;\n",
       "    }\n",
       "\n",
       "    .dataframe thead th {\n",
       "        text-align: right;\n",
       "    }\n",
       "</style>\n",
       "<table border=\"1\" class=\"dataframe\">\n",
       "  <thead>\n",
       "    <tr style=\"text-align: right;\">\n",
       "      <th></th>\n",
       "      <th>Price</th>\n",
       "      <th>RegistrationYear</th>\n",
       "      <th>Power</th>\n",
       "      <th>Kilometer</th>\n",
       "      <th>RegistrationMonth</th>\n",
       "      <th>NumberOfPictures</th>\n",
       "      <th>PostalCode</th>\n",
       "    </tr>\n",
       "  </thead>\n",
       "  <tbody>\n",
       "    <tr>\n",
       "      <td>count</td>\n",
       "      <td>352132.000000</td>\n",
       "      <td>352132.000000</td>\n",
       "      <td>352132.000000</td>\n",
       "      <td>352132.000000</td>\n",
       "      <td>352132.000000</td>\n",
       "      <td>352132.0</td>\n",
       "      <td>352132.000000</td>\n",
       "    </tr>\n",
       "    <tr>\n",
       "      <td>mean</td>\n",
       "      <td>4437.540570</td>\n",
       "      <td>2003.871636</td>\n",
       "      <td>110.720108</td>\n",
       "      <td>128438.071519</td>\n",
       "      <td>5.746422</td>\n",
       "      <td>0.0</td>\n",
       "      <td>50534.888428</td>\n",
       "    </tr>\n",
       "    <tr>\n",
       "      <td>std</td>\n",
       "      <td>4516.540446</td>\n",
       "      <td>70.673430</td>\n",
       "      <td>190.249667</td>\n",
       "      <td>37562.896848</td>\n",
       "      <td>3.712289</td>\n",
       "      <td>0.0</td>\n",
       "      <td>25778.993977</td>\n",
       "    </tr>\n",
       "    <tr>\n",
       "      <td>min</td>\n",
       "      <td>0.000000</td>\n",
       "      <td>1000.000000</td>\n",
       "      <td>0.000000</td>\n",
       "      <td>5000.000000</td>\n",
       "      <td>0.000000</td>\n",
       "      <td>0.0</td>\n",
       "      <td>1067.000000</td>\n",
       "    </tr>\n",
       "    <tr>\n",
       "      <td>25%</td>\n",
       "      <td>1100.000000</td>\n",
       "      <td>1999.000000</td>\n",
       "      <td>69.000000</td>\n",
       "      <td>125000.000000</td>\n",
       "      <td>3.000000</td>\n",
       "      <td>0.0</td>\n",
       "      <td>30167.000000</td>\n",
       "    </tr>\n",
       "    <tr>\n",
       "      <td>50%</td>\n",
       "      <td>2750.000000</td>\n",
       "      <td>2003.000000</td>\n",
       "      <td>105.000000</td>\n",
       "      <td>150000.000000</td>\n",
       "      <td>6.000000</td>\n",
       "      <td>0.0</td>\n",
       "      <td>49429.000000</td>\n",
       "    </tr>\n",
       "    <tr>\n",
       "      <td>75%</td>\n",
       "      <td>6450.000000</td>\n",
       "      <td>2008.000000</td>\n",
       "      <td>143.000000</td>\n",
       "      <td>150000.000000</td>\n",
       "      <td>9.000000</td>\n",
       "      <td>0.0</td>\n",
       "      <td>71093.000000</td>\n",
       "    </tr>\n",
       "    <tr>\n",
       "      <td>max</td>\n",
       "      <td>20000.000000</td>\n",
       "      <td>9999.000000</td>\n",
       "      <td>20000.000000</td>\n",
       "      <td>150000.000000</td>\n",
       "      <td>12.000000</td>\n",
       "      <td>0.0</td>\n",
       "      <td>99998.000000</td>\n",
       "    </tr>\n",
       "  </tbody>\n",
       "</table>\n",
       "</div>"
      ],
      "text/plain": [
       "               Price  RegistrationYear          Power      Kilometer  \\\n",
       "count  352132.000000     352132.000000  352132.000000  352132.000000   \n",
       "mean     4437.540570       2003.871636     110.720108  128438.071519   \n",
       "std      4516.540446         70.673430     190.249667   37562.896848   \n",
       "min         0.000000       1000.000000       0.000000    5000.000000   \n",
       "25%      1100.000000       1999.000000      69.000000  125000.000000   \n",
       "50%      2750.000000       2003.000000     105.000000  150000.000000   \n",
       "75%      6450.000000       2008.000000     143.000000  150000.000000   \n",
       "max     20000.000000       9999.000000   20000.000000  150000.000000   \n",
       "\n",
       "       RegistrationMonth  NumberOfPictures     PostalCode  \n",
       "count      352132.000000          352132.0  352132.000000  \n",
       "mean            5.746422               0.0   50534.888428  \n",
       "std             3.712289               0.0   25778.993977  \n",
       "min             0.000000               0.0    1067.000000  \n",
       "25%             3.000000               0.0   30167.000000  \n",
       "50%             6.000000               0.0   49429.000000  \n",
       "75%             9.000000               0.0   71093.000000  \n",
       "max            12.000000               0.0   99998.000000  "
      ]
     },
     "execution_count": 10,
     "metadata": {},
     "output_type": "execute_result"
    }
   ],
   "source": [
    "data.describe()"
   ]
  },
  {
   "cell_type": "markdown",
   "metadata": {},
   "source": [
    "Сразу на глаза попадаются странные значения. Разберём каждый признак по отдельности.\n",
    "\n",
    "Признак 'Price' - наш целевой. построим график распределения значений."
   ]
  },
  {
   "cell_type": "code",
   "execution_count": 11,
   "metadata": {},
   "outputs": [
    {
     "data": {
      "image/png": "[encoded data removed]",
      "text/plain": [
       "<Figure size 432x288 with 1 Axes>"
      ]
     },
     "metadata": {},
     "output_type": "display_data"
    }
   ],
   "source": [
    "# признак 'Price' - наш целевой\n",
    "ax =  sns.boxplot(data=data['Price'])\n",
    "ax.set_title('Распределение значений цен на автомобили');\n"
   ]
  },
  {
   "cell_type": "markdown",
   "metadata": {},
   "source": [
    "Цена в 20000 евро за машину хоть и выбивается из общей картины, но она вполне реальна, так что убирать эти значения из выборки мы не будем. А вот со всем количеством бесплатных и почти бесплатных машин нужно что-то делать. Предлагаю отрезать 5% квантиль из наших данных."
   ]
  },
  {
   "cell_type": "code",
   "execution_count": 12,
   "metadata": {},
   "outputs": [
    {
     "data": {
      "text/plain": [
       "200.0"
      ]
     },
     "execution_count": 12,
     "metadata": {},
     "output_type": "execute_result"
    }
   ],
   "source": [
    "data['Price'].quantile(.05)"
   ]
  },
  {
   "cell_type": "markdown",
   "metadata": {},
   "source": [
    "За 200 евро уже реально найти хоть какую-то машину."
   ]
  },
  {
   "cell_type": "code",
   "execution_count": 13,
   "metadata": {},
   "outputs": [],
   "source": [
    "data = data[data['Price'] > data['Price'].quantile(.05)]"
   ]
  },
  {
   "cell_type": "markdown",
   "metadata": {},
   "source": [
    "Далее переходим к столбцу \"RegistrationYear\"."
   ]
  },
  {
   "cell_type": "code",
   "execution_count": 14,
   "metadata": {},
   "outputs": [
    {
     "data": {
      "image/png": "[encoded data removed]",
      "text/plain": [
       "<Figure size 432x288 with 1 Axes>"
      ]
     },
     "metadata": {},
     "output_type": "display_data"
    }
   ],
   "source": [
    "ax =  sns.boxplot(data=data['RegistrationYear'])\n",
    "\n",
    "ax.set_title('Распределение значений года регистрации автомобиля');"
   ]
  },
  {
   "cell_type": "markdown",
   "metadata": {},
   "source": [
    "На графике видны выбросы в обе стороны, предлагаю откинуть значения, которые не входят в диапазон [1.5% квантиль; 2021 (настоящее время)]."
   ]
  },
  {
   "cell_type": "code",
   "execution_count": 15,
   "metadata": {},
   "outputs": [
    {
     "name": "stdout",
     "output_type": "stream",
     "text": [
      "[1985, 2021]\n"
     ]
    }
   ],
   "source": [
    "year_range = [int(data['RegistrationYear'].quantile(.015)), 2021]\n",
    "\n",
    "print(year_range)"
   ]
  },
  {
   "cell_type": "code",
   "execution_count": 16,
   "metadata": {},
   "outputs": [],
   "source": [
    "data.drop(data[(data['RegistrationYear'] > year_range[1]) | (data['RegistrationYear'] < year_range[0])].index, inplace=True)"
   ]
  },
  {
   "cell_type": "code",
   "execution_count": 17,
   "metadata": {},
   "outputs": [
    {
     "data": {
      "image/png": "[encoded data removed]",
      "text/plain": [
       "<Figure size 432x288 with 1 Axes>"
      ]
     },
     "metadata": {},
     "output_type": "display_data"
    }
   ],
   "source": [
    "ax =  sns.boxplot(data=data['RegistrationYear'])\n",
    "\n",
    "ax.set_title('Распределение значений года регистрации автомобиля');"
   ]
  },
  {
   "cell_type": "markdown",
   "metadata": {},
   "source": [
    "Далее рассмотрим значения мощности автомобиля."
   ]
  },
  {
   "cell_type": "code",
   "execution_count": 18,
   "metadata": {},
   "outputs": [
    {
     "data": {
      "image/png": "[encoded data removed]",
      "text/plain": [
       "<Figure size 432x288 with 1 Axes>"
      ]
     },
     "metadata": {},
     "output_type": "display_data"
    }
   ],
   "source": [
    "ax =  sns.boxplot(data=data['Power'])\n",
    "\n",
    "ax.set_title('Распределение значений мощности автомобиля');"
   ]
  },
  {
   "cell_type": "markdown",
   "metadata": {},
   "source": [
    "Очень много машин, в которых двигатель на 0 л.с. Что же нам с ними делать? Удалить такой большой объём данных было бы неправильно. Я предлагаю следующее решение:\n",
    "* Возьмём диапазон допустимых значений силы двигателей [50; 800] л.с. (снизу прикрепил ссылку на источник, откуда взял данный диапазон).\n",
    "* Значения, которые не попали в данных диапазон мы обнуляем.\n",
    "* Затем наш датасет сортируем по марке и модели автомобиля и заполняем пропуски соседними значениями (допустим, что машины одной модели должны иметь одинаковую мощность двигателя характеристики).\n",
    "\n",
    "\n",
    "<a href=\"https://zap-online.ru/info/avtonovosti/chto-budet-esli-v-dvigatele-svoego-avtomobilya-ya-ostavlyu-vsego-odnu-loshadinuyu-silu#:~:text=%D0%A1%D0%BE%D0%B2%D1%80%D0%B5%D0%BC%D0%B5%D0%BD%D0%BD%D1%8B%D0%B9%20%D0%B0%D0%B2%D1%82%D0%BE%D0%BC%D0%BE%D0%B1%D0%B8%D0%BB%D1%8C%20%D0%B8%D0%BC%D0%B5%D0%B5%D1%82%20%D0%B4%D0%B2%D0%B8%D0%B3%D0%B0%D1%82%D0%B5%D0%BB%D1%8C%20%D0%BC%D0%BE%D1%89%D0%BD%D0%BE%D1%81%D1%82%D1%8C%D1%8E,4%20%D0%BB%D0%B8%D1%82%D1%80%D0%B0%20%D0%BD%D0%B0%20100%20%D0%BA%D0%B8%D0%BB%D0%BE%D0%BC%D0%B5%D1%82%D1%80%D0%BE%D0%B2.\" class=\"global\">Источник, с которого бралась информация об объёмах двигателей автомобилей</a>\n"
   ]
  },
  {
   "cell_type": "code",
   "execution_count": 19,
   "metadata": {},
   "outputs": [],
   "source": [
    "data['Power'] = data['Power'].apply(lambda Power: Power if (Power < 800) & (Power > 50) else np.nan)"
   ]
  },
  {
   "cell_type": "code",
   "execution_count": 20,
   "metadata": {},
   "outputs": [],
   "source": [
    "data = data.sort_values('Brand').sort_values('Model').ffill()"
   ]
  },
  {
   "cell_type": "code",
   "execution_count": 21,
   "metadata": {},
   "outputs": [],
   "source": [
    "# перемешаем наши отсортированные данные:\n",
    "data = data.sample(frac=1, random_state=30050).reset_index(drop=True)"
   ]
  },
  {
   "cell_type": "code",
   "execution_count": 22,
   "metadata": {},
   "outputs": [
    {
     "data": {
      "image/png": "[encoded data removed]",
      "text/plain": [
       "<Figure size 432x288 with 1 Axes>"
      ]
     },
     "metadata": {},
     "output_type": "display_data"
    }
   ],
   "source": [
    "ax =  sns.boxplot(data=data['Power'])\n",
    "\n",
    "ax.set_title('Распределение значений мощности автомобиля');"
   ]
  },
  {
   "cell_type": "markdown",
   "metadata": {},
   "source": [
    "Выбросы ещё остались, но убирать мы их не будем. Если мы их уберем, это будет означать, что мы закрыли глаза на автомобили спортивные автомобили, а нам важно обучить нашу модель предсказывать цены для всех классов машин.\n",
    "\n",
    "Переходим к пробегу автомобилей."
   ]
  },
  {
   "cell_type": "code",
   "execution_count": 23,
   "metadata": {},
   "outputs": [
    {
     "data": {
      "image/png": "[encoded data removed]",
      "text/plain": [
       "<Figure size 432x288 with 1 Axes>"
      ]
     },
     "metadata": {},
     "output_type": "display_data"
    }
   ],
   "source": [
    "ax =  sns.boxplot(data=data['Kilometer'])\n",
    "\n",
    "ax.set_title('Распределение значений пробега автомобиля');"
   ]
  },
  {
   "cell_type": "markdown",
   "metadata": {},
   "source": [
    "Медиана и максимум равны. Интересно, с чем это связано, может в анкете на машину нельзя ставить более 150 тыс. км. или люди немного врут, не хотя давать огласке тот факт, что машина повидала уже многое. В любом случае странных значений я тут не наблюдаю, так что предлагаю оставить данные столбец в исходном состоянии."
   ]
  },
  {
   "cell_type": "code",
   "execution_count": 24,
   "metadata": {},
   "outputs": [
    {
     "data": {
      "image/png": "[encoded data removed]",
      "text/plain": [
       "<Figure size 432x288 with 1 Axes>"
      ]
     },
     "metadata": {},
     "output_type": "display_data"
    }
   ],
   "source": [
    "ax =  sns.boxplot(data=data['RegistrationMonth'])\n",
    "\n",
    "ax.set_title('Распределение значений месяца регистрации автомобиля');"
   ]
  },
  {
   "cell_type": "markdown",
   "metadata": {},
   "source": [
    "Какое красивое распределение, для наглядности выведем таблицу с долями машин, зарегистрированными в разные месяца."
   ]
  },
  {
   "cell_type": "code",
   "execution_count": 25,
   "metadata": {},
   "outputs": [
    {
     "data": {
      "text/html": [
       "<style  type=\"text/css\" >\n",
       "    #T_00bb82da_5f6c_11ec_a71d_02420a393e1erow0_col0 {\n",
       "            background-color:  #49006a;\n",
       "            color:  #f1f1f1;\n",
       "        }    #T_00bb82da_5f6c_11ec_a71d_02420a393e1erow1_col0 {\n",
       "            background-color:  #ae017e;\n",
       "            color:  #f1f1f1;\n",
       "        }    #T_00bb82da_5f6c_11ec_a71d_02420a393e1erow2_col0 {\n",
       "            background-color:  #f767a1;\n",
       "            color:  #000000;\n",
       "        }    #T_00bb82da_5f6c_11ec_a71d_02420a393e1erow3_col0 {\n",
       "            background-color:  #f767a1;\n",
       "            color:  #000000;\n",
       "        }    #T_00bb82da_5f6c_11ec_a71d_02420a393e1erow4_col0 {\n",
       "            background-color:  #f767a1;\n",
       "            color:  #000000;\n",
       "        }    #T_00bb82da_5f6c_11ec_a71d_02420a393e1erow5_col0 {\n",
       "            background-color:  #f767a1;\n",
       "            color:  #000000;\n",
       "        }    #T_00bb82da_5f6c_11ec_a71d_02420a393e1erow6_col0 {\n",
       "            background-color:  #f767a1;\n",
       "            color:  #000000;\n",
       "        }    #T_00bb82da_5f6c_11ec_a71d_02420a393e1erow7_col0 {\n",
       "            background-color:  #fcc5c0;\n",
       "            color:  #000000;\n",
       "        }    #T_00bb82da_5f6c_11ec_a71d_02420a393e1erow8_col0 {\n",
       "            background-color:  #fcc5c0;\n",
       "            color:  #000000;\n",
       "        }    #T_00bb82da_5f6c_11ec_a71d_02420a393e1erow9_col0 {\n",
       "            background-color:  #fcc5c0;\n",
       "            color:  #000000;\n",
       "        }    #T_00bb82da_5f6c_11ec_a71d_02420a393e1erow10_col0 {\n",
       "            background-color:  #fcc5c0;\n",
       "            color:  #000000;\n",
       "        }    #T_00bb82da_5f6c_11ec_a71d_02420a393e1erow11_col0 {\n",
       "            background-color:  #fcc5c0;\n",
       "            color:  #000000;\n",
       "        }    #T_00bb82da_5f6c_11ec_a71d_02420a393e1erow12_col0 {\n",
       "            background-color:  #fff7f3;\n",
       "            color:  #000000;\n",
       "        }</style><table id=\"T_00bb82da_5f6c_11ec_a71d_02420a393e1e\" ><thead>    <tr>        <th class=\"blank level0\" ></th>        <th class=\"col_heading level0 col0\" >RegistrationMonth</th>    </tr></thead><tbody>\n",
       "                <tr>\n",
       "                        <th id=\"T_00bb82da_5f6c_11ec_a71d_02420a393e1elevel0_row0\" class=\"row_heading level0 row0\" >3</th>\n",
       "                        <td id=\"T_00bb82da_5f6c_11ec_a71d_02420a393e1erow0_col0\" class=\"data row0 col0\" >0.1</td>\n",
       "            </tr>\n",
       "            <tr>\n",
       "                        <th id=\"T_00bb82da_5f6c_11ec_a71d_02420a393e1elevel0_row1\" class=\"row_heading level0 row1\" >6</th>\n",
       "                        <td id=\"T_00bb82da_5f6c_11ec_a71d_02420a393e1erow1_col0\" class=\"data row1 col0\" >0.09</td>\n",
       "            </tr>\n",
       "            <tr>\n",
       "                        <th id=\"T_00bb82da_5f6c_11ec_a71d_02420a393e1elevel0_row2\" class=\"row_heading level0 row2\" >4</th>\n",
       "                        <td id=\"T_00bb82da_5f6c_11ec_a71d_02420a393e1erow2_col0\" class=\"data row2 col0\" >0.08</td>\n",
       "            </tr>\n",
       "            <tr>\n",
       "                        <th id=\"T_00bb82da_5f6c_11ec_a71d_02420a393e1elevel0_row3\" class=\"row_heading level0 row3\" >0</th>\n",
       "                        <td id=\"T_00bb82da_5f6c_11ec_a71d_02420a393e1erow3_col0\" class=\"data row3 col0\" >0.08</td>\n",
       "            </tr>\n",
       "            <tr>\n",
       "                        <th id=\"T_00bb82da_5f6c_11ec_a71d_02420a393e1elevel0_row4\" class=\"row_heading level0 row4\" >5</th>\n",
       "                        <td id=\"T_00bb82da_5f6c_11ec_a71d_02420a393e1erow4_col0\" class=\"data row4 col0\" >0.08</td>\n",
       "            </tr>\n",
       "            <tr>\n",
       "                        <th id=\"T_00bb82da_5f6c_11ec_a71d_02420a393e1elevel0_row5\" class=\"row_heading level0 row5\" >7</th>\n",
       "                        <td id=\"T_00bb82da_5f6c_11ec_a71d_02420a393e1erow5_col0\" class=\"data row5 col0\" >0.08</td>\n",
       "            </tr>\n",
       "            <tr>\n",
       "                        <th id=\"T_00bb82da_5f6c_11ec_a71d_02420a393e1elevel0_row6\" class=\"row_heading level0 row6\" >10</th>\n",
       "                        <td id=\"T_00bb82da_5f6c_11ec_a71d_02420a393e1erow6_col0\" class=\"data row6 col0\" >0.08</td>\n",
       "            </tr>\n",
       "            <tr>\n",
       "                        <th id=\"T_00bb82da_5f6c_11ec_a71d_02420a393e1elevel0_row7\" class=\"row_heading level0 row7\" >11</th>\n",
       "                        <td id=\"T_00bb82da_5f6c_11ec_a71d_02420a393e1erow7_col0\" class=\"data row7 col0\" >0.07</td>\n",
       "            </tr>\n",
       "            <tr>\n",
       "                        <th id=\"T_00bb82da_5f6c_11ec_a71d_02420a393e1elevel0_row8\" class=\"row_heading level0 row8\" >12</th>\n",
       "                        <td id=\"T_00bb82da_5f6c_11ec_a71d_02420a393e1erow8_col0\" class=\"data row8 col0\" >0.07</td>\n",
       "            </tr>\n",
       "            <tr>\n",
       "                        <th id=\"T_00bb82da_5f6c_11ec_a71d_02420a393e1elevel0_row9\" class=\"row_heading level0 row9\" >9</th>\n",
       "                        <td id=\"T_00bb82da_5f6c_11ec_a71d_02420a393e1erow9_col0\" class=\"data row9 col0\" >0.07</td>\n",
       "            </tr>\n",
       "            <tr>\n",
       "                        <th id=\"T_00bb82da_5f6c_11ec_a71d_02420a393e1elevel0_row10\" class=\"row_heading level0 row10\" >1</th>\n",
       "                        <td id=\"T_00bb82da_5f6c_11ec_a71d_02420a393e1erow10_col0\" class=\"data row10 col0\" >0.07</td>\n",
       "            </tr>\n",
       "            <tr>\n",
       "                        <th id=\"T_00bb82da_5f6c_11ec_a71d_02420a393e1elevel0_row11\" class=\"row_heading level0 row11\" >8</th>\n",
       "                        <td id=\"T_00bb82da_5f6c_11ec_a71d_02420a393e1erow11_col0\" class=\"data row11 col0\" >0.07</td>\n",
       "            </tr>\n",
       "            <tr>\n",
       "                        <th id=\"T_00bb82da_5f6c_11ec_a71d_02420a393e1elevel0_row12\" class=\"row_heading level0 row12\" >2</th>\n",
       "                        <td id=\"T_00bb82da_5f6c_11ec_a71d_02420a393e1erow12_col0\" class=\"data row12 col0\" >0.06</td>\n",
       "            </tr>\n",
       "    </tbody></table>"
      ],
      "text/plain": [
       "<pandas.io.formats.style.Styler at 0x7f7327f224d0>"
      ]
     },
     "execution_count": 25,
     "metadata": {},
     "output_type": "execute_result"
    }
   ],
   "source": [
    "(data['RegistrationMonth'].value_counts() / data.shape[0]).round(2).to_frame().style.background_gradient(cmap = 'RdPu')"
   ]
  },
  {
   "cell_type": "markdown",
   "metadata": {},
   "source": [
    "У нас появился новый тринадцатый (нулевой) месяц. Наверно, никто бы не отказался от такого подарка, но в реальной жизни пока лишь 12 месяцев в году. Я предлагаю вообще удалить этот столбец из нашей таблицы. Обычно, при покупке/продаже, для составления цены хватает информация о годе выпуска машины. Я считаю, что месяц – это лишнее."
   ]
  },
  {
   "cell_type": "code",
   "execution_count": 26,
   "metadata": {},
   "outputs": [],
   "source": [
    "data = data.drop('RegistrationMonth', axis=1)"
   ]
  },
  {
   "cell_type": "markdown",
   "metadata": {},
   "source": [
    "И последний признак: 'NumberOfPictures'. Тут все просто, мы просто удалим его. Почему? Потому что он весь состоит из нулей. Зачем нам это нужно."
   ]
  },
  {
   "cell_type": "code",
   "execution_count": 27,
   "metadata": {},
   "outputs": [],
   "source": [
    "data = data.drop('NumberOfPictures', axis=1)"
   ]
  },
  {
   "cell_type": "markdown",
   "metadata": {},
   "source": [
    "Ещё раз посмотрим на распределение значений наших признаков."
   ]
  },
  {
   "cell_type": "code",
   "execution_count": 28,
   "metadata": {},
   "outputs": [
    {
     "data": {
      "text/html": [
       "<div>\n",
       "<style scoped>\n",
       "    .dataframe tbody tr th:only-of-type {\n",
       "        vertical-align: middle;\n",
       "    }\n",
       "\n",
       "    .dataframe tbody tr th {\n",
       "        vertical-align: top;\n",
       "    }\n",
       "\n",
       "    .dataframe thead th {\n",
       "        text-align: right;\n",
       "    }\n",
       "</style>\n",
       "<table border=\"1\" class=\"dataframe\">\n",
       "  <thead>\n",
       "    <tr style=\"text-align: right;\">\n",
       "      <th></th>\n",
       "      <th>Price</th>\n",
       "      <th>RegistrationYear</th>\n",
       "      <th>Power</th>\n",
       "      <th>Kilometer</th>\n",
       "      <th>PostalCode</th>\n",
       "    </tr>\n",
       "  </thead>\n",
       "  <tbody>\n",
       "    <tr>\n",
       "      <td>count</td>\n",
       "      <td>329054.000000</td>\n",
       "      <td>329054.000000</td>\n",
       "      <td>329054.000000</td>\n",
       "      <td>329054.000000</td>\n",
       "      <td>329054.000000</td>\n",
       "    </tr>\n",
       "    <tr>\n",
       "      <td>mean</td>\n",
       "      <td>4646.535593</td>\n",
       "      <td>2003.711038</td>\n",
       "      <td>121.581667</td>\n",
       "      <td>129004.236387</td>\n",
       "      <td>50782.274198</td>\n",
       "    </tr>\n",
       "    <tr>\n",
       "      <td>std</td>\n",
       "      <td>4499.546538</td>\n",
       "      <td>6.312780</td>\n",
       "      <td>53.193497</td>\n",
       "      <td>36551.141290</td>\n",
       "      <td>25686.433186</td>\n",
       "    </tr>\n",
       "    <tr>\n",
       "      <td>min</td>\n",
       "      <td>202.000000</td>\n",
       "      <td>1985.000000</td>\n",
       "      <td>51.000000</td>\n",
       "      <td>5000.000000</td>\n",
       "      <td>1067.000000</td>\n",
       "    </tr>\n",
       "    <tr>\n",
       "      <td>25%</td>\n",
       "      <td>1290.000000</td>\n",
       "      <td>1999.000000</td>\n",
       "      <td>80.000000</td>\n",
       "      <td>125000.000000</td>\n",
       "      <td>30539.000000</td>\n",
       "    </tr>\n",
       "    <tr>\n",
       "      <td>50%</td>\n",
       "      <td>2980.000000</td>\n",
       "      <td>2003.000000</td>\n",
       "      <td>111.000000</td>\n",
       "      <td>150000.000000</td>\n",
       "      <td>49596.000000</td>\n",
       "    </tr>\n",
       "    <tr>\n",
       "      <td>75%</td>\n",
       "      <td>6600.000000</td>\n",
       "      <td>2008.000000</td>\n",
       "      <td>150.000000</td>\n",
       "      <td>150000.000000</td>\n",
       "      <td>71263.000000</td>\n",
       "    </tr>\n",
       "    <tr>\n",
       "      <td>max</td>\n",
       "      <td>20000.000000</td>\n",
       "      <td>2019.000000</td>\n",
       "      <td>776.000000</td>\n",
       "      <td>150000.000000</td>\n",
       "      <td>99998.000000</td>\n",
       "    </tr>\n",
       "  </tbody>\n",
       "</table>\n",
       "</div>"
      ],
      "text/plain": [
       "               Price  RegistrationYear          Power      Kilometer  \\\n",
       "count  329054.000000     329054.000000  329054.000000  329054.000000   \n",
       "mean     4646.535593       2003.711038     121.581667  129004.236387   \n",
       "std      4499.546538          6.312780      53.193497   36551.141290   \n",
       "min       202.000000       1985.000000      51.000000    5000.000000   \n",
       "25%      1290.000000       1999.000000      80.000000  125000.000000   \n",
       "50%      2980.000000       2003.000000     111.000000  150000.000000   \n",
       "75%      6600.000000       2008.000000     150.000000  150000.000000   \n",
       "max     20000.000000       2019.000000     776.000000  150000.000000   \n",
       "\n",
       "          PostalCode  \n",
       "count  329054.000000  \n",
       "mean    50782.274198  \n",
       "std     25686.433186  \n",
       "min      1067.000000  \n",
       "25%     30539.000000  \n",
       "50%     49596.000000  \n",
       "75%     71263.000000  \n",
       "max     99998.000000  "
      ]
     },
     "execution_count": 28,
     "metadata": {},
     "output_type": "execute_result"
    }
   ],
   "source": [
    "data.describe()"
   ]
  },
  {
   "cell_type": "markdown",
   "metadata": {},
   "source": [
    "Выглядит намного лучше, от выбросов избавились. \n",
    "\n",
    "Давайте ещё раз выведем информацию о наших двнных."
   ]
  },
  {
   "cell_type": "code",
   "execution_count": 29,
   "metadata": {},
   "outputs": [
    {
     "name": "stdout",
     "output_type": "stream",
     "text": [
      "<class 'pandas.core.frame.DataFrame'>\n",
      "RangeIndex: 329054 entries, 0 to 329053\n",
      "Data columns (total 14 columns):\n",
      "DateCrawled         329054 non-null object\n",
      "Price               329054 non-null int64\n",
      "VehicleType         329054 non-null object\n",
      "RegistrationYear    329054 non-null int64\n",
      "Gearbox             329054 non-null object\n",
      "Power               329054 non-null float64\n",
      "Model               329054 non-null object\n",
      "Kilometer           329054 non-null int64\n",
      "FuelType            329054 non-null object\n",
      "Brand               329054 non-null object\n",
      "NotRepaired         329054 non-null object\n",
      "DateCreated         329054 non-null object\n",
      "PostalCode          329054 non-null int64\n",
      "LastSeen            329054 non-null object\n",
      "dtypes: float64(1), int64(4), object(9)\n",
      "memory usage: 35.1+ MB\n"
     ]
    }
   ],
   "source": [
    "data.info()"
   ]
  },
  {
   "cell_type": "markdown",
   "metadata": {},
   "source": [
    "### Вывод\n",
    "\n",
    "Мы провели предобработку данных:\n",
    "* Изучили наши данные.\n",
    "* Обнаружили и избавились от пропусков в данных. \n",
    "* Обнаружили и избавились от аномальных значений\n",
    "\n",
    "Далее, переходим к обучению модели."
   ]
  },
  {
   "cell_type": "markdown",
   "metadata": {},
   "source": [
    "## Обучение моделей"
   ]
  },
  {
   "cell_type": "markdown",
   "metadata": {},
   "source": [
    "Переходим к обучению. Для начала поделим наши выборки на trein/test/valid. "
   ]
  },
  {
   "cell_type": "markdown",
   "metadata": {},
   "source": [
    "Не все признаки мы будем использовать для обучения. Нам не понадобится:\n",
    "\n",
    "* почтовый индекс владельца анкеты (пользователя)\n",
    "* дата последней активности пользователя\n",
    "* дата создания анкеты\n",
    "* дату скачивания анкеты из базы. \n",
    "\n",
    "Перед разделением данных на выборки закодируем наши категориальные признаки."
   ]
  },
  {
   "cell_type": "code",
   "execution_count": 30,
   "metadata": {},
   "outputs": [],
   "source": [
    "data_ordinal = data\n",
    "col_name = ['VehicleType', 'Gearbox', 'Model', 'FuelType', 'Brand', 'NotRepaired']\n",
    "encoder = OrdinalEncoder()\n",
    "data[col_name] = encoder.fit_transform(data[col_name])"
   ]
  },
  {
   "cell_type": "code",
   "execution_count": 31,
   "metadata": {},
   "outputs": [
    {
     "data": {
      "text/html": [
       "<div>\n",
       "<style scoped>\n",
       "    .dataframe tbody tr th:only-of-type {\n",
       "        vertical-align: middle;\n",
       "    }\n",
       "\n",
       "    .dataframe tbody tr th {\n",
       "        vertical-align: top;\n",
       "    }\n",
       "\n",
       "    .dataframe thead th {\n",
       "        text-align: right;\n",
       "    }\n",
       "</style>\n",
       "<table border=\"1\" class=\"dataframe\">\n",
       "  <thead>\n",
       "    <tr style=\"text-align: right;\">\n",
       "      <th></th>\n",
       "      <th>DateCrawled</th>\n",
       "      <th>Price</th>\n",
       "      <th>VehicleType</th>\n",
       "      <th>RegistrationYear</th>\n",
       "      <th>Gearbox</th>\n",
       "      <th>Power</th>\n",
       "      <th>Model</th>\n",
       "      <th>Kilometer</th>\n",
       "      <th>FuelType</th>\n",
       "      <th>Brand</th>\n",
       "      <th>NotRepaired</th>\n",
       "      <th>DateCreated</th>\n",
       "      <th>PostalCode</th>\n",
       "      <th>LastSeen</th>\n",
       "    </tr>\n",
       "  </thead>\n",
       "  <tbody>\n",
       "    <tr>\n",
       "      <td>0</td>\n",
       "      <td>2016-03-23 17:52:45</td>\n",
       "      <td>1890</td>\n",
       "      <td>7.0</td>\n",
       "      <td>2016</td>\n",
       "      <td>2.0</td>\n",
       "      <td>150.0</td>\n",
       "      <td>95.0</td>\n",
       "      <td>150000</td>\n",
       "      <td>2.0</td>\n",
       "      <td>20.0</td>\n",
       "      <td>0.0</td>\n",
       "      <td>2016-03-23 00:00:00</td>\n",
       "      <td>49419</td>\n",
       "      <td>2016-03-23 17:52:45</td>\n",
       "    </tr>\n",
       "    <tr>\n",
       "      <td>1</td>\n",
       "      <td>2016-04-03 09:00:20</td>\n",
       "      <td>2000</td>\n",
       "      <td>2.0</td>\n",
       "      <td>1999</td>\n",
       "      <td>2.0</td>\n",
       "      <td>150.0</td>\n",
       "      <td>11.0</td>\n",
       "      <td>150000</td>\n",
       "      <td>6.0</td>\n",
       "      <td>2.0</td>\n",
       "      <td>2.0</td>\n",
       "      <td>2016-04-03 00:00:00</td>\n",
       "      <td>63679</td>\n",
       "      <td>2016-04-03 09:48:22</td>\n",
       "    </tr>\n",
       "    <tr>\n",
       "      <td>2</td>\n",
       "      <td>2016-03-26 14:36:44</td>\n",
       "      <td>899</td>\n",
       "      <td>7.0</td>\n",
       "      <td>2016</td>\n",
       "      <td>0.0</td>\n",
       "      <td>60.0</td>\n",
       "      <td>226.0</td>\n",
       "      <td>150000</td>\n",
       "      <td>7.0</td>\n",
       "      <td>32.0</td>\n",
       "      <td>1.0</td>\n",
       "      <td>2016-03-26 00:00:00</td>\n",
       "      <td>26345</td>\n",
       "      <td>2016-04-06 03:44:18</td>\n",
       "    </tr>\n",
       "    <tr>\n",
       "      <td>3</td>\n",
       "      <td>2016-03-22 22:54:51</td>\n",
       "      <td>1770</td>\n",
       "      <td>4.0</td>\n",
       "      <td>1999</td>\n",
       "      <td>0.0</td>\n",
       "      <td>170.0</td>\n",
       "      <td>164.0</td>\n",
       "      <td>150000</td>\n",
       "      <td>4.0</td>\n",
       "      <td>24.0</td>\n",
       "      <td>0.0</td>\n",
       "      <td>2016-03-22 00:00:00</td>\n",
       "      <td>85774</td>\n",
       "      <td>2016-04-03 04:45:53</td>\n",
       "    </tr>\n",
       "    <tr>\n",
       "      <td>4</td>\n",
       "      <td>2016-03-25 12:51:52</td>\n",
       "      <td>1550</td>\n",
       "      <td>4.0</td>\n",
       "      <td>1996</td>\n",
       "      <td>1.0</td>\n",
       "      <td>150.0</td>\n",
       "      <td>59.0</td>\n",
       "      <td>150000</td>\n",
       "      <td>6.0</td>\n",
       "      <td>20.0</td>\n",
       "      <td>1.0</td>\n",
       "      <td>2016-03-25 00:00:00</td>\n",
       "      <td>38162</td>\n",
       "      <td>2016-03-28 12:16:15</td>\n",
       "    </tr>\n",
       "    <tr>\n",
       "      <td>5</td>\n",
       "      <td>2016-03-22 14:54:36</td>\n",
       "      <td>8650</td>\n",
       "      <td>4.0</td>\n",
       "      <td>2003</td>\n",
       "      <td>1.0</td>\n",
       "      <td>218.0</td>\n",
       "      <td>15.0</td>\n",
       "      <td>150000</td>\n",
       "      <td>2.0</td>\n",
       "      <td>2.0</td>\n",
       "      <td>1.0</td>\n",
       "      <td>2016-03-22 00:00:00</td>\n",
       "      <td>84130</td>\n",
       "      <td>2016-03-22 14:54:36</td>\n",
       "    </tr>\n",
       "    <tr>\n",
       "      <td>6</td>\n",
       "      <td>2016-03-17 16:36:57</td>\n",
       "      <td>8590</td>\n",
       "      <td>0.0</td>\n",
       "      <td>2008</td>\n",
       "      <td>1.0</td>\n",
       "      <td>150.0</td>\n",
       "      <td>236.0</td>\n",
       "      <td>100000</td>\n",
       "      <td>6.0</td>\n",
       "      <td>20.0</td>\n",
       "      <td>0.0</td>\n",
       "      <td>2016-03-17 00:00:00</td>\n",
       "      <td>87439</td>\n",
       "      <td>2016-04-07 01:16:51</td>\n",
       "    </tr>\n",
       "    <tr>\n",
       "      <td>7</td>\n",
       "      <td>2016-03-28 22:36:16</td>\n",
       "      <td>7999</td>\n",
       "      <td>0.0</td>\n",
       "      <td>2009</td>\n",
       "      <td>1.0</td>\n",
       "      <td>140.0</td>\n",
       "      <td>220.0</td>\n",
       "      <td>150000</td>\n",
       "      <td>2.0</td>\n",
       "      <td>38.0</td>\n",
       "      <td>1.0</td>\n",
       "      <td>2016-03-28 00:00:00</td>\n",
       "      <td>93096</td>\n",
       "      <td>2016-04-05 12:45:57</td>\n",
       "    </tr>\n",
       "    <tr>\n",
       "      <td>8</td>\n",
       "      <td>2016-03-06 17:48:07</td>\n",
       "      <td>850</td>\n",
       "      <td>5.0</td>\n",
       "      <td>2002</td>\n",
       "      <td>1.0</td>\n",
       "      <td>64.0</td>\n",
       "      <td>173.0</td>\n",
       "      <td>150000</td>\n",
       "      <td>6.0</td>\n",
       "      <td>38.0</td>\n",
       "      <td>2.0</td>\n",
       "      <td>2016-03-06 00:00:00</td>\n",
       "      <td>66399</td>\n",
       "      <td>2016-04-06 22:15:37</td>\n",
       "    </tr>\n",
       "    <tr>\n",
       "      <td>9</td>\n",
       "      <td>2016-03-16 14:56:51</td>\n",
       "      <td>15900</td>\n",
       "      <td>4.0</td>\n",
       "      <td>2012</td>\n",
       "      <td>1.0</td>\n",
       "      <td>136.0</td>\n",
       "      <td>6.0</td>\n",
       "      <td>60000</td>\n",
       "      <td>6.0</td>\n",
       "      <td>2.0</td>\n",
       "      <td>0.0</td>\n",
       "      <td>2016-03-16 00:00:00</td>\n",
       "      <td>45699</td>\n",
       "      <td>2016-04-06 16:44:55</td>\n",
       "    </tr>\n",
       "  </tbody>\n",
       "</table>\n",
       "</div>"
      ],
      "text/plain": [
       "           DateCrawled  Price  VehicleType  RegistrationYear  Gearbox  Power  \\\n",
       "0  2016-03-23 17:52:45   1890          7.0              2016      2.0  150.0   \n",
       "1  2016-04-03 09:00:20   2000          2.0              1999      2.0  150.0   \n",
       "2  2016-03-26 14:36:44    899          7.0              2016      0.0   60.0   \n",
       "3  2016-03-22 22:54:51   1770          4.0              1999      0.0  170.0   \n",
       "4  2016-03-25 12:51:52   1550          4.0              1996      1.0  150.0   \n",
       "5  2016-03-22 14:54:36   8650          4.0              2003      1.0  218.0   \n",
       "6  2016-03-17 16:36:57   8590          0.0              2008      1.0  150.0   \n",
       "7  2016-03-28 22:36:16   7999          0.0              2009      1.0  140.0   \n",
       "8  2016-03-06 17:48:07    850          5.0              2002      1.0   64.0   \n",
       "9  2016-03-16 14:56:51  15900          4.0              2012      1.0  136.0   \n",
       "\n",
       "   Model  Kilometer  FuelType  Brand  NotRepaired          DateCreated  \\\n",
       "0   95.0     150000       2.0   20.0          0.0  2016-03-23 00:00:00   \n",
       "1   11.0     150000       6.0    2.0          2.0  2016-04-03 00:00:00   \n",
       "2  226.0     150000       7.0   32.0          1.0  2016-03-26 00:00:00   \n",
       "3  164.0     150000       4.0   24.0          0.0  2016-03-22 00:00:00   \n",
       "4   59.0     150000       6.0   20.0          1.0  2016-03-25 00:00:00   \n",
       "5   15.0     150000       2.0    2.0          1.0  2016-03-22 00:00:00   \n",
       "6  236.0     100000       6.0   20.0          0.0  2016-03-17 00:00:00   \n",
       "7  220.0     150000       2.0   38.0          1.0  2016-03-28 00:00:00   \n",
       "8  173.0     150000       6.0   38.0          2.0  2016-03-06 00:00:00   \n",
       "9    6.0      60000       6.0    2.0          0.0  2016-03-16 00:00:00   \n",
       "\n",
       "   PostalCode             LastSeen  \n",
       "0       49419  2016-03-23 17:52:45  \n",
       "1       63679  2016-04-03 09:48:22  \n",
       "2       26345  2016-04-06 03:44:18  \n",
       "3       85774  2016-04-03 04:45:53  \n",
       "4       38162  2016-03-28 12:16:15  \n",
       "5       84130  2016-03-22 14:54:36  \n",
       "6       87439  2016-04-07 01:16:51  \n",
       "7       93096  2016-04-05 12:45:57  \n",
       "8       66399  2016-04-06 22:15:37  \n",
       "9       45699  2016-04-06 16:44:55  "
      ]
     },
     "execution_count": 31,
     "metadata": {},
     "output_type": "execute_result"
    }
   ],
   "source": [
    "data_ordinal.head(10)"
   ]
  },
  {
   "cell_type": "code",
   "execution_count": 32,
   "metadata": {},
   "outputs": [
    {
     "name": "stdout",
     "output_type": "stream",
     "text": [
      "Train sample size: (197432, 9), (197432,)\n",
      "Valid sample size: (65811, 9), (65811,)\n",
      "Test sample size: (65811, 9), (65811,)\n"
     ]
    }
   ],
   "source": [
    "features = data_ordinal.drop(['DateCrawled', 'DateCreated', 'PostalCode', 'LastSeen', 'Price'], axis=1)\n",
    "target = data_ordinal['Price']\n",
    "\n",
    "features_train, features_other, target_train, target_other = train_test_split(\n",
    "        features, target, test_size=0.4, random_state=30050)\n",
    "features_valid, features_test, target_valid, target_test = train_test_split(\n",
    "        features_other, target_other, test_size=0.5, random_state=30050)\n",
    "\n",
    "del features_other\n",
    "del target_other\n",
    "\n",
    "print(f'Train sample size: {features_train.shape}, {target_train.shape}')\n",
    "print(f'Valid sample size: {features_valid.shape}, {target_valid.shape}')\n",
    "print(f'Test sample size: {features_test.shape}, {target_test.shape}')"
   ]
  },
  {
   "cell_type": "markdown",
   "metadata": {},
   "source": [
    "Далее нам предстоит обучить разные модели: \n",
    "* DecisionTreeRegressor\n",
    "* RandomForestRegressor\n",
    "* LGBMRegressor\n",
    "Для каждой попробуем разные параметры и выберем лучшую. Начнём с дерева решений."
   ]
  },
  {
   "cell_type": "code",
   "execution_count": 33,
   "metadata": {},
   "outputs": [
    {
     "name": "stdout",
     "output_type": "stream",
     "text": [
      "2020.0961346373344\n"
     ]
    }
   ],
   "source": [
    "model = DecisionTreeRegressor(random_state=30050).fit(features_train, target_train)\n",
    "predictions = model.predict(features_valid)\n",
    "print(mean_squared_error(target_valid, predictions)**0.5)"
   ]
  },
  {
   "cell_type": "markdown",
   "metadata": {},
   "source": [
    "Подберём разные параметры к нашей модели и пасмотрим, как изменится метрика."
   ]
  },
  {
   "cell_type": "code",
   "execution_count": 34,
   "metadata": {},
   "outputs": [
    {
     "name": "stdout",
     "output_type": "stream",
     "text": [
      "Best model:\n",
      "max_depth = 10, RMSE = 2001.4684932300981\n"
     ]
    }
   ],
   "source": [
    "best_results = 3000\n",
    "best_depth = 0\n",
    "for depth in [1,10,100]:\n",
    "    model = DecisionTreeRegressor(random_state=30050, max_depth=depth).fit(features_train, target_train)\n",
    "    predictions = model.predict(features_valid)\n",
    "    rmse = mean_squared_error(target_valid, predictions)**0.5\n",
    "    if rmse < best_results:\n",
    "        best_results = rmse\n",
    "        best_depth = depth\n",
    "print('Best model:')\n",
    "print(f'max_depth = {best_depth}, RMSE = {best_results}')"
   ]
  },
  {
   "cell_type": "markdown",
   "metadata": {},
   "source": [
    "Рассмотрим диапазон глубины деревьев от 20 до 100 с шагом 20."
   ]
  },
  {
   "cell_type": "code",
   "execution_count": 35,
   "metadata": {},
   "outputs": [
    {
     "name": "stdout",
     "output_type": "stream",
     "text": [
      "Best model:\n",
      "max_depth = 20, RMSE = 1997.0089405074502\n"
     ]
    }
   ],
   "source": [
    "best_results = 3000\n",
    "best_depth = 0\n",
    "for depth in range(20,100,20):\n",
    "    model = DecisionTreeRegressor(random_state=30050, max_depth=depth).fit(features_train, target_train)\n",
    "    predictions = model.predict(features_valid)\n",
    "    rmse = mean_squared_error(target_valid, predictions)**0.5\n",
    "    if rmse < best_results:\n",
    "        best_results = rmse\n",
    "        best_depth = depth\n",
    "print('Best model:')\n",
    "print(f'max_depth = {best_depth}, RMSE = {best_results}')"
   ]
  },
  {
   "cell_type": "markdown",
   "metadata": {},
   "source": [
    "Лучшее значение RMSE мы получили при значении max_depth = 40. Затем, при увеличении значения глубины дерева, метрика не улучшается. Далее посмотрим, как себя покажет случайный лес."
   ]
  },
  {
   "cell_type": "code",
   "execution_count": 36,
   "metadata": {},
   "outputs": [
    {
     "name": "stderr",
     "output_type": "stream",
     "text": [
      "/opt/conda/lib/python3.7/site-packages/sklearn/ensemble/forest.py:245: FutureWarning: The default value of n_estimators will change from 10 in version 0.20 to 100 in 0.22.\n",
      "  \"10 in version 0.20 to 100 in 0.22.\", FutureWarning)\n"
     ]
    },
    {
     "name": "stdout",
     "output_type": "stream",
     "text": [
      "1682.3560325313972\n"
     ]
    }
   ],
   "source": [
    "model = RandomForestRegressor(random_state=30050).fit(features_train, target_train)\n",
    "predictions = model.predict(features_valid)\n",
    "print(mean_squared_error(target_valid, predictions)**0.5)"
   ]
  },
  {
   "cell_type": "markdown",
   "metadata": {},
   "source": [
    "Значение метрики качества лучше, чем у дерева решений. Попробуем подберать параметры, возможно, метрика качества станет ещё лучше. Проверим это."
   ]
  },
  {
   "cell_type": "code",
   "execution_count": 37,
   "metadata": {},
   "outputs": [
    {
     "name": "stdout",
     "output_type": "stream",
     "text": [
      "Best model:\n",
      "n_estimators = 50, RMSE = 1635.5843396633352\n"
     ]
    }
   ],
   "source": [
    "best_results = 3000\n",
    "estimator = 0\n",
    "for n_estimators in [10, 30, 50]:\n",
    "    model = RandomForestRegressor(random_state=30050, n_estimators=n_estimators).fit(features_train, target_train)\n",
    "    predictions = model.predict(features_valid)\n",
    "    rmse = mean_squared_error(target_valid, predictions)**0.5\n",
    "    if rmse < best_results:\n",
    "        best_results = rmse\n",
    "        estimator = n_estimators\n",
    "print('Best model:')\n",
    "print(f'n_estimators = {estimator}, RMSE = {best_results}')"
   ]
  },
  {
   "cell_type": "markdown",
   "metadata": {},
   "source": [
    "Лучше всего себя показала модель с 50 деревьями, останавимся на этом значении, далее подберём значение глубины."
   ]
  },
  {
   "cell_type": "code",
   "execution_count": 38,
   "metadata": {},
   "outputs": [
    {
     "name": "stdout",
     "output_type": "stream",
     "text": [
      "Best model:\n",
      "max_depth = 1, RMSE = 1635.5843396633352\n"
     ]
    }
   ],
   "source": [
    "best_results = 3000\n",
    "best_depth = 0\n",
    "for depth in [1,30, 50]:\n",
    "    model = RandomForestRegressor(random_state=30050, n_estimators=50, max_depth=depth).fit(features_train, target_train)\n",
    "    predictions = model.predict(features_valid)\n",
    "    if rmse < best_results:\n",
    "        best_results = rmse\n",
    "        best_depth = depth\n",
    "print('Best model:')\n",
    "print(f'max_depth = {best_depth}, RMSE = {best_results}')"
   ]
  },
  {
   "cell_type": "markdown",
   "metadata": {},
   "source": [
    "Нашей модель с 50 деревьями лучше всего себя показала при значении глубины равным 30, далее метрика качества уже не изменяется. RMSE меньше, чем у DecisionTreeRegressor.\n",
    "\n",
    "Далее рассмотрим последнюю модель: модель градиентного бустинга из библиотеки LightGBM."
   ]
  },
  {
   "cell_type": "code",
   "execution_count": 39,
   "metadata": {},
   "outputs": [],
   "source": [
    "# список категориальных признаков\n",
    "cat_column = {'Brand', 'FuelType', 'Gearbox', 'Model', 'NotRepaired', 'VehicleType'}"
   ]
  },
  {
   "cell_type": "code",
   "execution_count": 40,
   "metadata": {},
   "outputs": [
    {
     "name": "stderr",
     "output_type": "stream",
     "text": [
      "/opt/conda/lib/python3.7/site-packages/lightgbm/basic.py:1295: UserWarning: categorical_feature in Dataset is overridden.\n",
      "New categorical_feature is ['Brand', 'FuelType', 'Gearbox', 'Model', 'NotRepaired', 'VehicleType']\n",
      "  'New categorical_feature is {}'.format(sorted(list(categorical_feature))))\n"
     ]
    },
    {
     "name": "stdout",
     "output_type": "stream",
     "text": [
      "1620.2080414504012\n"
     ]
    }
   ],
   "source": [
    "model = LGBMRegressor(random_state=30050).fit(\n",
    "    features_train, target_train, categorical_feature=cat_column)\n",
    "predictions = model.predict(features_valid)\n",
    "print(mean_squared_error(target_valid, predictions)**0.5)"
   ]
  },
  {
   "cell_type": "markdown",
   "metadata": {},
   "source": [
    "RMSE у модели градиентного бустинга самое маленькое. А мы попробуем его ещё улучшить."
   ]
  },
  {
   "cell_type": "code",
   "execution_count": 41,
   "metadata": {},
   "outputs": [
    {
     "name": "stderr",
     "output_type": "stream",
     "text": [
      "/opt/conda/lib/python3.7/site-packages/lightgbm/basic.py:1295: UserWarning: categorical_feature in Dataset is overridden.\n",
      "New categorical_feature is ['Brand', 'FuelType', 'Gearbox', 'Model', 'NotRepaired', 'VehicleType']\n",
      "  'New categorical_feature is {}'.format(sorted(list(categorical_feature))))\n"
     ]
    },
    {
     "name": "stdout",
     "output_type": "stream",
     "text": [
      "Best model:\n",
      "best_leaves = 500, RMSE = 1635.5843396633352\n"
     ]
    }
   ],
   "source": [
    "# Подберем значения количество листьев дерева.\n",
    "best_results = 3000\n",
    "best_leaves = 0\n",
    "\n",
    "for leaves in [5,100, 500]:\n",
    "    model = LGBMRegressor(random_state=30050, num_leaves=leaves).fit(\n",
    "        features_train, target_train, categorical_feature=cat_column)\n",
    "    predictions = model.predict(features_valid)\n",
    "    if rmse < best_results:\n",
    "        best_results = rmse\n",
    "        best_leaves = leaves\n",
    "print('Best model:')\n",
    "print(f'best_leaves = {leaves}, RMSE = {best_results}')"
   ]
  },
  {
   "cell_type": "markdown",
   "metadata": {},
   "source": [
    "Модель с 500 листьями показала лучшее значение метрики RMSE, далее построим модели с разным количеством деревьев и посмотрим на метрику качества."
   ]
  },
  {
   "cell_type": "code",
   "execution_count": 42,
   "metadata": {},
   "outputs": [
    {
     "name": "stdout",
     "output_type": "stream",
     "text": [
      "Best model:\n",
      "n_estimators = 50, RMSE = 1635.5843396633352\n"
     ]
    }
   ],
   "source": [
    "best_results = 3000\n",
    "estimator = 0\n",
    "\n",
    "for estimators in [10, 100, 200, 500]:\n",
    "    model = LGBMRegressor(random_state=30050, n_estimators=estimators, num_leaves=500).fit(\n",
    "        features_train, target_train, categorical_feature=cat_column)\n",
    "    predictions = model.predict(features_valid)\n",
    "    if rmse < best_results:\n",
    "        best_results = rmse\n",
    "        estimator = n_estimators\n",
    "print('Best model:')\n",
    "print(f'n_estimators = {estimator}, RMSE = {best_results}')"
   ]
  },
  {
   "cell_type": "markdown",
   "metadata": {},
   "source": [
    "### Вывод\n",
    "\n",
    "В итоге модель градиентного бустинга с 200 деревьями и 500 листьями показала себя лучше всех. Так что дальше мы переходим к анализу работы этой модели на тестовой выборке."
   ]
  },
  {
   "cell_type": "markdown",
   "metadata": {},
   "source": [
    "## Анализ моделей"
   ]
  },
  {
   "cell_type": "markdown",
   "metadata": {},
   "source": [
    "Перейдём к анализу нашей модели\n",
    "проверим наши модель на тестовой выборке, проверим её на вменяемость и проанализируем скорость работы (сравним скорость работы модели с 100 и с 200 деревьями, так как метрика RMSE у них не сильно отличаются)."
   ]
  },
  {
   "cell_type": "code",
   "execution_count": 65,
   "metadata": {},
   "outputs": [
    {
     "name": "stdout",
     "output_type": "stream",
     "text": [
      "CPU times: user 1min 29s, sys: 803 ms, total: 1min 30s\n",
      "Wall time: 1min 31s\n"
     ]
    }
   ],
   "source": [
    "%%time\n",
    "\n",
    "#обучим нашу модель, посмотрим на время обучения\n",
    "model_200 = LGBMRegressor(random_state=30050, num_leaves=500, n_estimators=200).fit(\n",
    "    features_train, target_train, categorical_feature=cat_column)"
   ]
  },
  {
   "cell_type": "code",
   "execution_count": 66,
   "metadata": {},
   "outputs": [
    {
     "name": "stdout",
     "output_type": "stream",
     "text": [
      "CPU times: user 27.9 s, sys: 331 ms, total: 28.2 s\n",
      "Wall time: 28.6 s\n"
     ]
    }
   ],
   "source": [
    "%%time\n",
    "\n",
    "#обучим нашу модель, посмотрим на время обучения\n",
    "model_100 = LGBMRegressor(random_state=30050, num_leaves=500, n_estimators=100).fit(\n",
    "    features_train, target_train, categorical_feature=cat_column)"
   ]
  },
  {
   "cell_type": "code",
   "execution_count": 67,
   "metadata": {},
   "outputs": [
    {
     "name": "stdout",
     "output_type": "stream",
     "text": [
      "CPU times: user 6 s, sys: 9.89 ms, total: 6.01 s\n",
      "Wall time: 6.02 s\n"
     ]
    },
    {
     "data": {
      "text/plain": [
       "1522.2911751391719"
      ]
     },
     "execution_count": 67,
     "metadata": {},
     "output_type": "execute_result"
    }
   ],
   "source": [
    "%%time\n",
    "\n",
    "# посмотрим на время предсказаний и их качество на тестовой выборке\n",
    "predictions = model_200.predict(features_test)\n",
    "mean_squared_error(target_test, predictions)**0.5"
   ]
  },
  {
   "cell_type": "code",
   "execution_count": 69,
   "metadata": {},
   "outputs": [
    {
     "name": "stdout",
     "output_type": "stream",
     "text": [
      "CPU times: user 3.16 s, sys: 754 µs, total: 3.16 s\n",
      "Wall time: 3.13 s\n"
     ]
    },
    {
     "data": {
      "text/plain": [
       "1526.2822730815083"
      ]
     },
     "execution_count": 69,
     "metadata": {},
     "output_type": "execute_result"
    }
   ],
   "source": [
    "%%time\n",
    "\n",
    "# посмотрим на время предсказаний и их качество на тестовой выборке\n",
    "predictions = model_100.predict(features_test)\n",
    "mean_squared_error(target_test, predictions)**0.5"
   ]
  },
  {
   "cell_type": "markdown",
   "metadata": {},
   "source": [
    "Далее проверим нашу модель на вменяемость (сравним её со случайной моделью, которая будет заполнять все средними значениями)"
   ]
  },
  {
   "cell_type": "code",
   "execution_count": 48,
   "metadata": {},
   "outputs": [
    {
     "data": {
      "text/plain": [
       "4491.055606265102"
      ]
     },
     "execution_count": 48,
     "metadata": {},
     "output_type": "execute_result"
    }
   ],
   "source": [
    "model = DummyRegressor(strategy='mean').fit(features_train, target_train)\n",
    "predictions = model.predict(features_test)\n",
    "mean_squared_error(target_test, predictions)**0.5"
   ]
  },
  {
   "cell_type": "code",
   "execution_count": 2,
   "metadata": {},
   "outputs": [
    {
     "name": "stdout",
     "output_type": "stream",
     "text": [
      "--- 8.487701416015625e-05 seconds ---\n"
     ]
    }
   ],
   "source": [
    "import time\n",
    "start_time = time.time()\n",
    "a = 2 + 2\n",
    "print(\"--- %s seconds ---\" % (time.time() - start_time))"
   ]
  },
  {
   "cell_type": "markdown",
   "metadata": {},
   "source": [
    "## Вывод\n",
    "\n",
    "Мы построили модель для определения стоимости автомобиля. Модель мы построили на данных, с которыми предварительно провели предобработку (побороли пропуски и выбросы). Тестировали мы 3 модели: \n",
    "* DecisionTreeRegressor\n",
    "* RandomForestRegressor\n",
    "* LGBMRegressor\n",
    "\n",
    "Лучшее значение метрики качества показала модель градиентного бустинга. Для улучшения точности предсказаний мы подбирали два гиперпараметра, это  'num_leaves' и  'n_estimators'. Лучшую точность показала модель с параметрами num_leaves = 500 и  n_estimators = 200, но она не RMSE данной модели не сильно отличается от модель с num_leaves = 500 и  n_estimators = 100. Так что анализ мы будем проводить с двумя моделями. Обе модели прошли проверку на вменяемость. Модель DummyRegressor, которая предсказывала средними значениями показала метрику RMSE, которая в 3 раза больше, чем у нашей модели. Результаты анализа наших моделей.\n",
    "\n",
    "Модель градиентного бустинга с 200 деревьями: \n",
    "* время обучения = 48.2 с\n",
    "* время предсказывания = 4.7 с\n",
    "* RMSE = 1522\n",
    "\n",
    "Модель градиентного бустинга с 100 деревьями: \n",
    "* время обучения = 25.8 с\n",
    "* время предсказывания = 1.6 с\n",
    "* RMSE = 1526\n",
    "\n",
    "Эти значения говорят нам о том, что модель градиентного бустинга с 100 деревьями почти в 2 раза быстрее обучается и в 3 раза быстрее предсказывает, чем модель с 200 деревьями. Но при этом на тестовой выборке ошибка этой модели лишь на 2.6% больше соперницы. Так как задача была: добавить возможность быстро узнать рыночную стоимость своего автомобиля, я советую для сервиса по продаже автомобилей выбрать модель, которая предсказывает в 3 раза быстрее.\n"
   ]
  }
 ],
 "metadata": {
  "ExecuteTimeLog": [
   {
    "duration": 1157,
    "start_time": "2021-12-15T19:13:50.514Z"
   },
   {
    "duration": 777,
    "start_time": "2021-12-15T19:13:51.673Z"
   },
   {
    "duration": 16,
    "start_time": "2021-12-15T19:13:52.455Z"
   },
   {
    "duration": 135,
    "start_time": "2021-12-15T19:13:52.473Z"
   },
   {
    "duration": 398,
    "start_time": "2021-12-15T19:13:52.610Z"
   },
   {
    "duration": 50,
    "start_time": "2021-12-15T19:13:53.010Z"
   },
   {
    "duration": 270,
    "start_time": "2021-12-15T19:13:53.063Z"
   },
   {
    "duration": 136,
    "start_time": "2021-12-15T19:13:53.335Z"
   },
   {
    "duration": 3,
    "start_time": "2021-12-15T19:13:53.473Z"
   },
   {
    "duration": 103,
    "start_time": "2021-12-15T19:13:53.478Z"
   },
   {
    "duration": 233,
    "start_time": "2021-12-15T19:13:53.583Z"
   },
   {
    "duration": 10,
    "start_time": "2021-12-15T19:13:53.817Z"
   },
   {
    "duration": 68,
    "start_time": "2021-12-15T19:13:53.828Z"
   },
   {
    "duration": 170,
    "start_time": "2021-12-15T19:13:53.898Z"
   },
   {
    "duration": 9,
    "start_time": "2021-12-15T19:13:54.069Z"
   },
   {
    "duration": 71,
    "start_time": "2021-12-15T19:13:54.079Z"
   },
   {
    "duration": 241,
    "start_time": "2021-12-15T19:13:54.152Z"
   },
   {
    "duration": 185,
    "start_time": "2021-12-15T19:13:54.394Z"
   },
   {
    "duration": 98,
    "start_time": "2021-12-15T19:13:54.581Z"
   },
   {
    "duration": 926,
    "start_time": "2021-12-15T19:13:54.680Z"
   },
   {
    "duration": 179,
    "start_time": "2021-12-15T19:13:55.608Z"
   },
   {
    "duration": 173,
    "start_time": "2021-12-15T19:13:55.793Z"
   },
   {
    "duration": 295,
    "start_time": "2021-12-15T19:13:55.969Z"
   },
   {
    "duration": 149,
    "start_time": "2021-12-15T19:13:56.265Z"
   },
   {
    "duration": 16,
    "start_time": "2021-12-15T19:13:56.416Z"
   },
   {
    "duration": 66,
    "start_time": "2021-12-15T19:13:56.433Z"
   },
   {
    "duration": 58,
    "start_time": "2021-12-15T19:13:56.500Z"
   },
   {
    "duration": 80,
    "start_time": "2021-12-15T19:13:56.560Z"
   },
   {
    "duration": 176,
    "start_time": "2021-12-15T19:13:56.642Z"
   },
   {
    "duration": 13,
    "start_time": "2021-12-15T19:13:56.820Z"
   },
   {
    "duration": 191,
    "start_time": "2021-12-15T19:13:56.834Z"
   },
   {
    "duration": 2,
    "start_time": "2021-12-15T19:13:57.027Z"
   },
   {
    "duration": 424,
    "start_time": "2021-12-15T19:13:57.031Z"
   },
   {
    "duration": 12,
    "start_time": "2021-12-15T19:13:57.457Z"
   },
   {
    "duration": 33,
    "start_time": "2021-12-15T19:13:57.471Z"
   },
   {
    "duration": 517,
    "start_time": "2021-12-15T19:13:57.506Z"
   },
   {
    "duration": 133,
    "start_time": "2021-12-15T19:13:58.025Z"
   },
   {
    "duration": 19,
    "start_time": "2021-12-15T19:13:58.159Z"
   },
   {
    "duration": 1609,
    "start_time": "2021-12-15T19:13:58.190Z"
   },
   {
    "duration": -16894,
    "start_time": "2021-12-15T19:14:16.886Z"
   },
   {
    "duration": -16897,
    "start_time": "2021-12-15T19:14:16.890Z"
   },
   {
    "duration": -16899,
    "start_time": "2021-12-15T19:14:16.893Z"
   },
   {
    "duration": -16902,
    "start_time": "2021-12-15T19:14:16.896Z"
   },
   {
    "duration": -16905,
    "start_time": "2021-12-15T19:14:16.900Z"
   },
   {
    "duration": -16908,
    "start_time": "2021-12-15T19:14:16.904Z"
   },
   {
    "duration": -16909,
    "start_time": "2021-12-15T19:14:16.906Z"
   },
   {
    "duration": -16912,
    "start_time": "2021-12-15T19:14:16.910Z"
   },
   {
    "duration": -16914,
    "start_time": "2021-12-15T19:14:16.913Z"
   },
   {
    "duration": -16917,
    "start_time": "2021-12-15T19:14:16.917Z"
   },
   {
    "duration": -16919,
    "start_time": "2021-12-15T19:14:16.920Z"
   },
   {
    "duration": -16922,
    "start_time": "2021-12-15T19:14:16.924Z"
   },
   {
    "duration": -16924,
    "start_time": "2021-12-15T19:14:16.927Z"
   },
   {
    "duration": -16927,
    "start_time": "2021-12-15T19:14:16.931Z"
   },
   {
    "duration": -16930,
    "start_time": "2021-12-15T19:14:16.935Z"
   },
   {
    "duration": -16932,
    "start_time": "2021-12-15T19:14:16.938Z"
   },
   {
    "duration": -16934,
    "start_time": "2021-12-15T19:14:16.941Z"
   },
   {
    "duration": -16936,
    "start_time": "2021-12-15T19:14:16.944Z"
   },
   {
    "duration": -16939,
    "start_time": "2021-12-15T19:14:16.948Z"
   },
   {
    "duration": -16941,
    "start_time": "2021-12-15T19:14:16.951Z"
   },
   {
    "duration": -16943,
    "start_time": "2021-12-15T19:14:16.954Z"
   },
   {
    "duration": -16945,
    "start_time": "2021-12-15T19:14:16.957Z"
   },
   {
    "duration": -16947,
    "start_time": "2021-12-15T19:14:16.960Z"
   },
   {
    "duration": -16950,
    "start_time": "2021-12-15T19:14:16.964Z"
   },
   {
    "duration": 120,
    "start_time": "2021-12-15T19:14:20.216Z"
   },
   {
    "duration": 3,
    "start_time": "2021-12-15T19:14:21.764Z"
   },
   {
    "duration": 2,
    "start_time": "2021-12-15T19:14:22.268Z"
   },
   {
    "duration": 23585,
    "start_time": "2021-12-15T19:14:22.311Z"
   },
   {
    "duration": 6625,
    "start_time": "2021-12-15T19:14:45.898Z"
   },
   {
    "duration": 5,
    "start_time": "2021-12-15T19:14:52.525Z"
   },
   {
    "duration": 20,
    "start_time": "2021-12-15T19:14:52.531Z"
   },
   {
    "duration": 14,
    "start_time": "2021-12-15T19:14:52.553Z"
   },
   {
    "duration": 4814,
    "start_time": "2021-12-15T19:14:52.592Z"
   },
   {
    "duration": 706,
    "start_time": "2021-12-15T19:14:57.408Z"
   },
   {
    "duration": 5,
    "start_time": "2021-12-15T19:14:58.116Z"
   },
   {
    "duration": 14,
    "start_time": "2021-12-15T19:14:58.123Z"
   },
   {
    "duration": 17,
    "start_time": "2021-12-15T19:14:58.138Z"
   },
   {
    "duration": 1056,
    "start_time": "2021-12-15T19:14:58.157Z"
   },
   {
    "duration": -1011,
    "start_time": "2021-12-15T19:15:00.226Z"
   },
   {
    "duration": -1014,
    "start_time": "2021-12-15T19:15:00.230Z"
   },
   {
    "duration": -1016,
    "start_time": "2021-12-15T19:15:00.233Z"
   },
   {
    "duration": -1018,
    "start_time": "2021-12-15T19:15:00.236Z"
   },
   {
    "duration": -1019,
    "start_time": "2021-12-15T19:15:00.239Z"
   },
   {
    "duration": -1032,
    "start_time": "2021-12-15T19:15:00.252Z"
   },
   {
    "duration": -1034,
    "start_time": "2021-12-15T19:15:00.256Z"
   },
   {
    "duration": -1037,
    "start_time": "2021-12-15T19:15:00.259Z"
   },
   {
    "duration": -1040,
    "start_time": "2021-12-15T19:15:00.263Z"
   },
   {
    "duration": -1042,
    "start_time": "2021-12-15T19:15:00.266Z"
   },
   {
    "duration": 4,
    "start_time": "2021-12-15T19:15:45.875Z"
   },
   {
    "duration": 94,
    "start_time": "2021-12-15T19:17:18.654Z"
   },
   {
    "duration": 110,
    "start_time": "2021-12-15T19:17:24.526Z"
   },
   {
    "duration": 12,
    "start_time": "2021-12-15T19:17:46.885Z"
   },
   {
    "duration": 13,
    "start_time": "2021-12-15T19:17:49.387Z"
   },
   {
    "duration": 116,
    "start_time": "2021-12-15T19:18:10.662Z"
   },
   {
    "duration": 4,
    "start_time": "2021-12-15T19:19:41.054Z"
   },
   {
    "duration": 824,
    "start_time": "2021-12-15T19:22:49.120Z"
   },
   {
    "duration": 801,
    "start_time": "2021-12-15T19:25:50.456Z"
   },
   {
    "duration": 1218,
    "start_time": "2021-12-15T19:26:03.901Z"
   },
   {
    "duration": 1194,
    "start_time": "2021-12-15T19:26:11.382Z"
   },
   {
    "duration": 1604,
    "start_time": "2021-12-15T19:26:17.008Z"
   },
   {
    "duration": 1673,
    "start_time": "2021-12-15T19:26:22.571Z"
   },
   {
    "duration": 1691,
    "start_time": "2021-12-15T19:26:27.240Z"
   },
   {
    "duration": 1582,
    "start_time": "2021-12-15T19:26:32.700Z"
   },
   {
    "duration": 1579,
    "start_time": "2021-12-15T19:26:36.127Z"
   },
   {
    "duration": 1589,
    "start_time": "2021-12-15T19:26:39.233Z"
   },
   {
    "duration": 1640,
    "start_time": "2021-12-15T19:26:47.234Z"
   },
   {
    "duration": 1609,
    "start_time": "2021-12-15T19:27:23.988Z"
   },
   {
    "duration": 1609,
    "start_time": "2021-12-15T19:27:29.785Z"
   },
   {
    "duration": 192,
    "start_time": "2021-12-15T19:29:16.515Z"
   },
   {
    "duration": 5374,
    "start_time": "2021-12-15T19:29:21.218Z"
   },
   {
    "duration": 204,
    "start_time": "2021-12-15T19:34:48.427Z"
   },
   {
    "duration": 1202,
    "start_time": "2021-12-15T19:34:55.052Z"
   },
   {
    "duration": 996,
    "start_time": "2021-12-15T19:34:56.256Z"
   },
   {
    "duration": 20,
    "start_time": "2021-12-15T19:34:57.254Z"
   },
   {
    "duration": 124,
    "start_time": "2021-12-15T19:34:57.275Z"
   },
   {
    "duration": 486,
    "start_time": "2021-12-15T19:34:57.400Z"
   },
   {
    "duration": 60,
    "start_time": "2021-12-15T19:34:57.888Z"
   },
   {
    "duration": 305,
    "start_time": "2021-12-15T19:34:57.950Z"
   },
   {
    "duration": 154,
    "start_time": "2021-12-15T19:34:58.258Z"
   },
   {
    "duration": 3,
    "start_time": "2021-12-15T19:34:58.414Z"
   },
   {
    "duration": 116,
    "start_time": "2021-12-15T19:34:58.419Z"
   },
   {
    "duration": 242,
    "start_time": "2021-12-15T19:34:58.536Z"
   },
   {
    "duration": 17,
    "start_time": "2021-12-15T19:34:58.780Z"
   },
   {
    "duration": 65,
    "start_time": "2021-12-15T19:34:58.799Z"
   },
   {
    "duration": 179,
    "start_time": "2021-12-15T19:34:58.866Z"
   },
   {
    "duration": 10,
    "start_time": "2021-12-15T19:34:59.047Z"
   },
   {
    "duration": 93,
    "start_time": "2021-12-15T19:34:59.059Z"
   },
   {
    "duration": 250,
    "start_time": "2021-12-15T19:34:59.154Z"
   },
   {
    "duration": 189,
    "start_time": "2021-12-15T19:34:59.406Z"
   },
   {
    "duration": 111,
    "start_time": "2021-12-15T19:34:59.597Z"
   },
   {
    "duration": 1036,
    "start_time": "2021-12-15T19:34:59.709Z"
   },
   {
    "duration": 219,
    "start_time": "2021-12-15T19:35:00.747Z"
   },
   {
    "duration": 194,
    "start_time": "2021-12-15T19:35:00.968Z"
   },
   {
    "duration": 306,
    "start_time": "2021-12-15T19:35:01.166Z"
   },
   {
    "duration": 156,
    "start_time": "2021-12-15T19:35:01.474Z"
   },
   {
    "duration": 17,
    "start_time": "2021-12-15T19:35:01.631Z"
   },
   {
    "duration": 76,
    "start_time": "2021-12-15T19:35:01.650Z"
   },
   {
    "duration": 65,
    "start_time": "2021-12-15T19:35:01.728Z"
   },
   {
    "duration": 74,
    "start_time": "2021-12-15T19:35:01.794Z"
   },
   {
    "duration": 192,
    "start_time": "2021-12-15T19:35:01.869Z"
   },
   {
    "duration": 531,
    "start_time": "2021-12-15T19:35:02.063Z"
   },
   {
    "duration": 14,
    "start_time": "2021-12-15T19:35:02.596Z"
   },
   {
    "duration": 153,
    "start_time": "2021-12-15T19:35:02.612Z"
   },
   {
    "duration": 827,
    "start_time": "2021-12-15T19:35:02.768Z"
   },
   {
    "duration": 1298,
    "start_time": "2021-12-15T19:35:03.597Z"
   },
   {
    "duration": 5709,
    "start_time": "2021-12-15T19:35:04.897Z"
   },
   {
    "duration": 79757,
    "start_time": "2021-12-15T19:35:10.608Z"
   },
   {
    "duration": -1047,
    "start_time": "2021-12-15T19:36:31.415Z"
   },
   {
    "duration": -1050,
    "start_time": "2021-12-15T19:36:31.419Z"
   },
   {
    "duration": -1053,
    "start_time": "2021-12-15T19:36:31.422Z"
   },
   {
    "duration": -1055,
    "start_time": "2021-12-15T19:36:31.425Z"
   },
   {
    "duration": -1066,
    "start_time": "2021-12-15T19:36:31.437Z"
   },
   {
    "duration": -1070,
    "start_time": "2021-12-15T19:36:31.442Z"
   },
   {
    "duration": -1072,
    "start_time": "2021-12-15T19:36:31.445Z"
   },
   {
    "duration": -1074,
    "start_time": "2021-12-15T19:36:31.448Z"
   },
   {
    "duration": -1077,
    "start_time": "2021-12-15T19:36:31.453Z"
   },
   {
    "duration": -1080,
    "start_time": "2021-12-15T19:36:31.456Z"
   },
   {
    "duration": -1083,
    "start_time": "2021-12-15T19:36:31.460Z"
   },
   {
    "duration": -1085,
    "start_time": "2021-12-15T19:36:31.463Z"
   },
   {
    "duration": -1087,
    "start_time": "2021-12-15T19:36:31.466Z"
   },
   {
    "duration": -1090,
    "start_time": "2021-12-15T19:36:31.470Z"
   },
   {
    "duration": -1092,
    "start_time": "2021-12-15T19:36:31.473Z"
   },
   {
    "duration": -1094,
    "start_time": "2021-12-15T19:36:31.476Z"
   },
   {
    "duration": -1096,
    "start_time": "2021-12-15T19:36:31.479Z"
   },
   {
    "duration": -1099,
    "start_time": "2021-12-15T19:36:31.483Z"
   },
   {
    "duration": -1102,
    "start_time": "2021-12-15T19:36:31.487Z"
   },
   {
    "duration": -1105,
    "start_time": "2021-12-15T19:36:31.491Z"
   },
   {
    "duration": -1107,
    "start_time": "2021-12-15T19:36:31.494Z"
   },
   {
    "duration": -1109,
    "start_time": "2021-12-15T19:36:31.497Z"
   },
   {
    "duration": -1111,
    "start_time": "2021-12-15T19:36:31.500Z"
   },
   {
    "duration": -1114,
    "start_time": "2021-12-15T19:36:31.504Z"
   },
   {
    "duration": 188,
    "start_time": "2021-12-15T19:36:33.187Z"
   },
   {
    "duration": 5183,
    "start_time": "2021-12-15T19:36:37.908Z"
   },
   {
    "duration": 5565,
    "start_time": "2021-12-15T19:36:47.280Z"
   },
   {
    "duration": 169561,
    "start_time": "2021-12-15T19:37:33.617Z"
   },
   {
    "duration": 49170,
    "start_time": "2021-12-15T19:40:45.260Z"
   },
   {
    "duration": 15453,
    "start_time": "2021-12-15T19:42:55.395Z"
   },
   {
    "duration": 41757,
    "start_time": "2021-12-15T19:43:12.013Z"
   },
   {
    "duration": 41903,
    "start_time": "2021-12-15T19:44:03.648Z"
   },
   {
    "duration": 28709,
    "start_time": "2021-12-15T19:45:09.293Z"
   },
   {
    "duration": 54842,
    "start_time": "2021-12-15T19:45:47.573Z"
   },
   {
    "duration": 400,
    "start_time": "2021-12-15T19:50:44.885Z"
   },
   {
    "duration": 364,
    "start_time": "2021-12-15T19:50:48.917Z"
   },
   {
    "duration": 9669,
    "start_time": "2021-12-15T19:52:10.828Z"
   },
   {
    "duration": 3,
    "start_time": "2021-12-15T19:53:14.430Z"
   },
   {
    "duration": 215,
    "start_time": "2021-12-15T19:54:55.117Z"
   },
   {
    "duration": -1044,
    "start_time": "2021-12-15T19:54:56.383Z"
   },
   {
    "duration": 1125,
    "start_time": "2021-12-15T19:55:03.152Z"
   },
   {
    "duration": 775,
    "start_time": "2021-12-15T19:55:04.279Z"
   },
   {
    "duration": 18,
    "start_time": "2021-12-15T19:55:05.056Z"
   },
   {
    "duration": 143,
    "start_time": "2021-12-15T19:55:05.076Z"
   },
   {
    "duration": 413,
    "start_time": "2021-12-15T19:55:05.220Z"
   },
   {
    "duration": 67,
    "start_time": "2021-12-15T19:55:05.635Z"
   },
   {
    "duration": 302,
    "start_time": "2021-12-15T19:55:05.704Z"
   },
   {
    "duration": 169,
    "start_time": "2021-12-15T19:55:06.009Z"
   },
   {
    "duration": 2,
    "start_time": "2021-12-15T19:55:06.180Z"
   },
   {
    "duration": 108,
    "start_time": "2021-12-15T19:55:06.184Z"
   },
   {
    "duration": 239,
    "start_time": "2021-12-15T19:55:06.294Z"
   },
   {
    "duration": 9,
    "start_time": "2021-12-15T19:55:06.535Z"
   },
   {
    "duration": 80,
    "start_time": "2021-12-15T19:55:06.546Z"
   },
   {
    "duration": 172,
    "start_time": "2021-12-15T19:55:06.628Z"
   },
   {
    "duration": 8,
    "start_time": "2021-12-15T19:55:06.802Z"
   },
   {
    "duration": 90,
    "start_time": "2021-12-15T19:55:06.812Z"
   },
   {
    "duration": 246,
    "start_time": "2021-12-15T19:55:06.904Z"
   },
   {
    "duration": 185,
    "start_time": "2021-12-15T19:55:07.152Z"
   },
   {
    "duration": 107,
    "start_time": "2021-12-15T19:55:07.339Z"
   },
   {
    "duration": 992,
    "start_time": "2021-12-15T19:55:07.447Z"
   },
   {
    "duration": 214,
    "start_time": "2021-12-15T19:55:08.441Z"
   },
   {
    "duration": 182,
    "start_time": "2021-12-15T19:55:08.657Z"
   },
   {
    "duration": 294,
    "start_time": "2021-12-15T19:55:08.842Z"
   },
   {
    "duration": 155,
    "start_time": "2021-12-15T19:55:09.138Z"
   },
   {
    "duration": 16,
    "start_time": "2021-12-15T19:55:09.294Z"
   },
   {
    "duration": 56,
    "start_time": "2021-12-15T19:55:09.312Z"
   },
   {
    "duration": 67,
    "start_time": "2021-12-15T19:55:09.370Z"
   },
   {
    "duration": 84,
    "start_time": "2021-12-15T19:55:09.438Z"
   },
   {
    "duration": 182,
    "start_time": "2021-12-15T19:55:09.523Z"
   },
   {
    "duration": 520,
    "start_time": "2021-12-15T19:55:09.707Z"
   },
   {
    "duration": 13,
    "start_time": "2021-12-15T19:55:10.229Z"
   },
   {
    "duration": 144,
    "start_time": "2021-12-15T19:55:10.244Z"
   },
   {
    "duration": 790,
    "start_time": "2021-12-15T19:55:10.392Z"
   },
   {
    "duration": 1240,
    "start_time": "2021-12-15T19:55:11.184Z"
   },
   {
    "duration": 5419,
    "start_time": "2021-12-15T19:55:12.426Z"
   },
   {
    "duration": 60332,
    "start_time": "2021-12-15T19:55:17.847Z"
   },
   {
    "duration": 2,
    "start_time": "2021-12-15T19:56:18.181Z"
   },
   {
    "duration": 200,
    "start_time": "2021-12-15T19:58:25.416Z"
   },
   {
    "duration": 1270,
    "start_time": "2021-12-15T19:58:31.200Z"
   },
   {
    "duration": 824,
    "start_time": "2021-12-15T19:58:32.472Z"
   },
   {
    "duration": 19,
    "start_time": "2021-12-15T19:58:33.298Z"
   },
   {
    "duration": 135,
    "start_time": "2021-12-15T19:58:33.319Z"
   },
   {
    "duration": 407,
    "start_time": "2021-12-15T19:58:33.456Z"
   },
   {
    "duration": 66,
    "start_time": "2021-12-15T19:58:33.865Z"
   },
   {
    "duration": 290,
    "start_time": "2021-12-15T19:58:33.933Z"
   },
   {
    "duration": 142,
    "start_time": "2021-12-15T19:58:34.227Z"
   },
   {
    "duration": 3,
    "start_time": "2021-12-15T19:58:34.372Z"
   },
   {
    "duration": 116,
    "start_time": "2021-12-15T19:58:34.376Z"
   },
   {
    "duration": 240,
    "start_time": "2021-12-15T19:58:34.494Z"
   },
   {
    "duration": 11,
    "start_time": "2021-12-15T19:58:34.736Z"
   },
   {
    "duration": 80,
    "start_time": "2021-12-15T19:58:34.748Z"
   },
   {
    "duration": 165,
    "start_time": "2021-12-15T19:58:34.830Z"
   },
   {
    "duration": 11,
    "start_time": "2021-12-15T19:58:34.997Z"
   },
   {
    "duration": 95,
    "start_time": "2021-12-15T19:58:35.010Z"
   },
   {
    "duration": 239,
    "start_time": "2021-12-15T19:58:35.107Z"
   },
   {
    "duration": 186,
    "start_time": "2021-12-15T19:58:35.347Z"
   },
   {
    "duration": 105,
    "start_time": "2021-12-15T19:58:35.534Z"
   },
   {
    "duration": 1038,
    "start_time": "2021-12-15T19:58:35.641Z"
   },
   {
    "duration": 211,
    "start_time": "2021-12-15T19:58:36.680Z"
   },
   {
    "duration": 180,
    "start_time": "2021-12-15T19:58:36.893Z"
   },
   {
    "duration": 304,
    "start_time": "2021-12-15T19:58:37.077Z"
   },
   {
    "duration": 165,
    "start_time": "2021-12-15T19:58:37.383Z"
   },
   {
    "duration": 16,
    "start_time": "2021-12-15T19:58:37.550Z"
   },
   {
    "duration": 67,
    "start_time": "2021-12-15T19:58:37.568Z"
   },
   {
    "duration": 60,
    "start_time": "2021-12-15T19:58:37.636Z"
   },
   {
    "duration": 71,
    "start_time": "2021-12-15T19:58:37.698Z"
   },
   {
    "duration": 191,
    "start_time": "2021-12-15T19:58:37.770Z"
   },
   {
    "duration": 537,
    "start_time": "2021-12-15T19:58:37.962Z"
   },
   {
    "duration": 13,
    "start_time": "2021-12-15T19:58:38.501Z"
   },
   {
    "duration": 143,
    "start_time": "2021-12-15T19:58:38.516Z"
   },
   {
    "duration": 820,
    "start_time": "2021-12-15T19:58:38.661Z"
   },
   {
    "duration": 1278,
    "start_time": "2021-12-15T19:58:39.483Z"
   },
   {
    "duration": 5507,
    "start_time": "2021-12-15T19:58:40.763Z"
   },
   {
    "duration": 20244,
    "start_time": "2021-12-15T19:58:46.272Z"
   },
   {
    "duration": -1085,
    "start_time": "2021-12-15T19:59:07.603Z"
   },
   {
    "duration": -1089,
    "start_time": "2021-12-15T19:59:07.608Z"
   },
   {
    "duration": -1091,
    "start_time": "2021-12-15T19:59:07.611Z"
   },
   {
    "duration": -1093,
    "start_time": "2021-12-15T19:59:07.614Z"
   },
   {
    "duration": -1096,
    "start_time": "2021-12-15T19:59:07.618Z"
   },
   {
    "duration": -1100,
    "start_time": "2021-12-15T19:59:07.623Z"
   },
   {
    "duration": -1102,
    "start_time": "2021-12-15T19:59:07.626Z"
   },
   {
    "duration": -1104,
    "start_time": "2021-12-15T19:59:07.629Z"
   },
   {
    "duration": -1106,
    "start_time": "2021-12-15T19:59:07.632Z"
   },
   {
    "duration": -1110,
    "start_time": "2021-12-15T19:59:07.636Z"
   },
   {
    "duration": -1122,
    "start_time": "2021-12-15T19:59:07.649Z"
   },
   {
    "duration": -1125,
    "start_time": "2021-12-15T19:59:07.653Z"
   },
   {
    "duration": -1128,
    "start_time": "2021-12-15T19:59:07.657Z"
   },
   {
    "duration": -1140,
    "start_time": "2021-12-15T19:59:07.670Z"
   },
   {
    "duration": -1144,
    "start_time": "2021-12-15T19:59:07.675Z"
   },
   {
    "duration": -1146,
    "start_time": "2021-12-15T19:59:07.678Z"
   },
   {
    "duration": -1148,
    "start_time": "2021-12-15T19:59:07.681Z"
   },
   {
    "duration": -1151,
    "start_time": "2021-12-15T19:59:07.684Z"
   },
   {
    "duration": -1154,
    "start_time": "2021-12-15T19:59:07.688Z"
   },
   {
    "duration": -1165,
    "start_time": "2021-12-15T19:59:07.700Z"
   },
   {
    "duration": -1168,
    "start_time": "2021-12-15T19:59:07.704Z"
   },
   {
    "duration": -1171,
    "start_time": "2021-12-15T19:59:07.708Z"
   },
   {
    "duration": -1173,
    "start_time": "2021-12-15T19:59:07.711Z"
   },
   {
    "duration": -1175,
    "start_time": "2021-12-15T19:59:07.714Z"
   },
   {
    "duration": -1176,
    "start_time": "2021-12-15T19:59:07.717Z"
   },
   {
    "duration": 3,
    "start_time": "2021-12-15T19:59:12.022Z"
   },
   {
    "duration": 7491,
    "start_time": "2021-12-15T19:59:12.821Z"
   },
   {
    "duration": 7535,
    "start_time": "2021-12-15T20:00:49.183Z"
   },
   {
    "duration": 7928,
    "start_time": "2021-12-15T20:01:35.969Z"
   },
   {
    "duration": 204,
    "start_time": "2021-12-15T20:10:16.311Z"
   },
   {
    "duration": 193,
    "start_time": "2021-12-15T20:10:24.601Z"
   },
   {
    "duration": 1274,
    "start_time": "2021-12-15T20:11:02.388Z"
   },
   {
    "duration": 25415,
    "start_time": "2021-12-15T20:11:17.507Z"
   },
   {
    "duration": 7293,
    "start_time": "2021-12-15T20:11:55.272Z"
   },
   {
    "duration": 8482,
    "start_time": "2021-12-15T20:12:12.417Z"
   },
   {
    "duration": 11819,
    "start_time": "2021-12-15T20:12:33.665Z"
   },
   {
    "duration": -1099,
    "start_time": "2021-12-15T20:12:46.584Z"
   },
   {
    "duration": 3,
    "start_time": "2021-12-15T20:12:48.904Z"
   },
   {
    "duration": 1219,
    "start_time": "2021-12-15T20:15:24.468Z"
   },
   {
    "duration": 860,
    "start_time": "2021-12-15T20:15:26.588Z"
   },
   {
    "duration": 19,
    "start_time": "2021-12-15T20:15:27.450Z"
   },
   {
    "duration": 145,
    "start_time": "2021-12-15T20:15:27.471Z"
   },
   {
    "duration": 423,
    "start_time": "2021-12-15T20:15:27.618Z"
   },
   {
    "duration": 66,
    "start_time": "2021-12-15T20:15:28.043Z"
   },
   {
    "duration": 299,
    "start_time": "2021-12-15T20:15:28.112Z"
   },
   {
    "duration": 138,
    "start_time": "2021-12-15T20:15:28.413Z"
   },
   {
    "duration": 3,
    "start_time": "2021-12-15T20:15:28.553Z"
   },
   {
    "duration": 111,
    "start_time": "2021-12-15T20:15:28.558Z"
   },
   {
    "duration": 233,
    "start_time": "2021-12-15T20:15:28.671Z"
   },
   {
    "duration": 9,
    "start_time": "2021-12-15T20:15:28.906Z"
   },
   {
    "duration": 80,
    "start_time": "2021-12-15T20:15:28.917Z"
   },
   {
    "duration": 167,
    "start_time": "2021-12-15T20:15:28.998Z"
   },
   {
    "duration": 8,
    "start_time": "2021-12-15T20:15:29.168Z"
   },
   {
    "duration": 83,
    "start_time": "2021-12-15T20:15:29.178Z"
   },
   {
    "duration": 244,
    "start_time": "2021-12-15T20:15:29.263Z"
   },
   {
    "duration": 184,
    "start_time": "2021-12-15T20:15:29.509Z"
   },
   {
    "duration": 106,
    "start_time": "2021-12-15T20:15:29.696Z"
   },
   {
    "duration": 1027,
    "start_time": "2021-12-15T20:15:29.804Z"
   },
   {
    "duration": 217,
    "start_time": "2021-12-15T20:15:30.833Z"
   },
   {
    "duration": 191,
    "start_time": "2021-12-15T20:15:31.052Z"
   },
   {
    "duration": 312,
    "start_time": "2021-12-15T20:15:31.245Z"
   },
   {
    "duration": 161,
    "start_time": "2021-12-15T20:15:31.559Z"
   },
   {
    "duration": 17,
    "start_time": "2021-12-15T20:15:31.722Z"
   },
   {
    "duration": 78,
    "start_time": "2021-12-15T20:15:31.740Z"
   },
   {
    "duration": 73,
    "start_time": "2021-12-15T20:15:31.820Z"
   },
   {
    "duration": 71,
    "start_time": "2021-12-15T20:15:31.895Z"
   },
   {
    "duration": 199,
    "start_time": "2021-12-15T20:15:31.969Z"
   },
   {
    "duration": 551,
    "start_time": "2021-12-15T20:15:32.170Z"
   },
   {
    "duration": 14,
    "start_time": "2021-12-15T20:15:32.723Z"
   },
   {
    "duration": 140,
    "start_time": "2021-12-15T20:15:34.206Z"
   },
   {
    "duration": 842,
    "start_time": "2021-12-15T20:15:36.792Z"
   },
   {
    "duration": 2,
    "start_time": "2021-12-15T20:15:43.945Z"
   },
   {
    "duration": 18554,
    "start_time": "2021-12-15T20:15:44.739Z"
   },
   {
    "duration": 43718,
    "start_time": "2021-12-15T20:16:08.247Z"
   },
   {
    "duration": 15632,
    "start_time": "2021-12-15T20:17:01.991Z"
   },
   {
    "duration": 47855,
    "start_time": "2021-12-15T20:17:22.137Z"
   },
   {
    "duration": 51612,
    "start_time": "2021-12-15T20:19:01.381Z"
   },
   {
    "duration": 3,
    "start_time": "2021-12-15T20:20:02.233Z"
   },
   {
    "duration": 7303,
    "start_time": "2021-12-15T20:20:09.517Z"
   },
   {
    "duration": 8547,
    "start_time": "2021-12-15T20:20:28.645Z"
   },
   {
    "duration": 3,
    "start_time": "2021-12-15T20:20:50.446Z"
   },
   {
    "duration": 53,
    "start_time": "2021-12-15T20:20:50.911Z"
   },
   {
    "duration": 7718,
    "start_time": "2021-12-15T20:21:02.301Z"
   },
   {
    "duration": 95874,
    "start_time": "2021-12-15T20:21:21.071Z"
   },
   {
    "duration": 1503,
    "start_time": "2021-12-15T20:28:55.763Z"
   },
   {
    "duration": 13096,
    "start_time": "2021-12-15T20:29:08.717Z"
   },
   {
    "duration": 33631,
    "start_time": "2021-12-15T20:29:46.486Z"
   },
   {
    "duration": 440,
    "start_time": "2021-12-15T20:31:21.346Z"
   },
   {
    "duration": 463979,
    "start_time": "2021-12-15T20:31:28.364Z"
   },
   {
    "duration": 676,
    "start_time": "2021-12-15T20:46:12.585Z"
   },
   {
    "duration": 82,
    "start_time": "2021-12-15T20:47:24.601Z"
   },
   {
    "duration": 86,
    "start_time": "2021-12-15T20:47:59.998Z"
   },
   {
    "duration": 116,
    "start_time": "2021-12-15T20:48:33.803Z"
   },
   {
    "duration": 102,
    "start_time": "2021-12-15T20:48:38.003Z"
   },
   {
    "duration": 83,
    "start_time": "2021-12-15T20:48:43.435Z"
   },
   {
    "duration": 79,
    "start_time": "2021-12-15T20:48:46.017Z"
   },
   {
    "duration": 719,
    "start_time": "2021-12-15T20:49:24.610Z"
   },
   {
    "duration": 705,
    "start_time": "2021-12-15T20:49:29.235Z"
   },
   {
    "duration": 3,
    "start_time": "2021-12-15T20:50:18.634Z"
   },
   {
    "duration": 4,
    "start_time": "2021-12-15T20:51:07.452Z"
   },
   {
    "duration": 7,
    "start_time": "2021-12-15T20:51:18.160Z"
   },
   {
    "duration": 1118,
    "start_time": "2021-12-15T20:51:43.464Z"
   },
   {
    "duration": 773,
    "start_time": "2021-12-15T20:51:44.583Z"
   },
   {
    "duration": 19,
    "start_time": "2021-12-15T20:51:45.358Z"
   },
   {
    "duration": 129,
    "start_time": "2021-12-15T20:51:45.379Z"
   },
   {
    "duration": 401,
    "start_time": "2021-12-15T20:51:45.510Z"
   },
   {
    "duration": 56,
    "start_time": "2021-12-15T20:51:45.913Z"
   },
   {
    "duration": 296,
    "start_time": "2021-12-15T20:51:45.970Z"
   },
   {
    "duration": 138,
    "start_time": "2021-12-15T20:51:46.268Z"
   },
   {
    "duration": 3,
    "start_time": "2021-12-15T20:51:46.408Z"
   },
   {
    "duration": 101,
    "start_time": "2021-12-15T20:51:46.414Z"
   },
   {
    "duration": 230,
    "start_time": "2021-12-15T20:51:46.517Z"
   },
   {
    "duration": 10,
    "start_time": "2021-12-15T20:51:46.749Z"
   },
   {
    "duration": 79,
    "start_time": "2021-12-15T20:51:46.761Z"
   },
   {
    "duration": 163,
    "start_time": "2021-12-15T20:51:46.841Z"
   },
   {
    "duration": 9,
    "start_time": "2021-12-15T20:51:47.005Z"
   },
   {
    "duration": 83,
    "start_time": "2021-12-15T20:51:47.015Z"
   },
   {
    "duration": 244,
    "start_time": "2021-12-15T20:51:47.100Z"
   },
   {
    "duration": 187,
    "start_time": "2021-12-15T20:51:47.346Z"
   },
   {
    "duration": 99,
    "start_time": "2021-12-15T20:51:47.535Z"
   },
   {
    "duration": 978,
    "start_time": "2021-12-15T20:51:47.636Z"
   },
   {
    "duration": 206,
    "start_time": "2021-12-15T20:51:48.615Z"
   },
   {
    "duration": 182,
    "start_time": "2021-12-15T20:51:48.822Z"
   },
   {
    "duration": 311,
    "start_time": "2021-12-15T20:51:49.006Z"
   },
   {
    "duration": 152,
    "start_time": "2021-12-15T20:51:49.319Z"
   },
   {
    "duration": 25,
    "start_time": "2021-12-15T20:51:49.473Z"
   },
   {
    "duration": 61,
    "start_time": "2021-12-15T20:51:49.500Z"
   },
   {
    "duration": 79,
    "start_time": "2021-12-15T20:51:49.564Z"
   },
   {
    "duration": 79,
    "start_time": "2021-12-15T20:51:49.645Z"
   },
   {
    "duration": 182,
    "start_time": "2021-12-15T20:51:49.726Z"
   },
   {
    "duration": 520,
    "start_time": "2021-12-15T20:51:49.910Z"
   },
   {
    "duration": 14,
    "start_time": "2021-12-15T20:51:50.432Z"
   },
   {
    "duration": 175,
    "start_time": "2021-12-15T20:51:50.447Z"
   },
   {
    "duration": 822,
    "start_time": "2021-12-15T20:51:50.624Z"
   },
   {
    "duration": 1210,
    "start_time": "2021-12-15T20:51:51.447Z"
   },
   {
    "duration": 5293,
    "start_time": "2021-12-15T20:51:52.658Z"
   },
   {
    "duration": 5327,
    "start_time": "2021-12-15T20:51:57.953Z"
   },
   {
    "duration": 48445,
    "start_time": "2021-12-15T20:52:03.282Z"
   },
   {
    "duration": 55862,
    "start_time": "2021-12-15T20:52:51.729Z"
   },
   {
    "duration": 2,
    "start_time": "2021-12-15T20:53:47.593Z"
   },
   {
    "duration": 7715,
    "start_time": "2021-12-15T20:53:47.597Z"
   },
   {
    "duration": 47114,
    "start_time": "2021-12-15T20:53:55.313Z"
   },
   {
    "duration": 36889,
    "start_time": "2021-12-15T20:54:42.429Z"
   },
   {
    "duration": 125841,
    "start_time": "2021-12-15T20:55:19.320Z"
   },
   {
    "duration": 748,
    "start_time": "2021-12-15T20:57:25.163Z"
   },
   {
    "duration": 92,
    "start_time": "2021-12-15T20:57:25.913Z"
   },
   {
    "duration": 6,
    "start_time": "2021-12-15T20:57:26.007Z"
   },
   {
    "duration": 113,
    "start_time": "2021-12-15T21:03:41.687Z"
   },
   {
    "duration": 107,
    "start_time": "2021-12-15T21:03:45.311Z"
   },
   {
    "duration": 80,
    "start_time": "2021-12-15T21:04:08.066Z"
   },
   {
    "duration": 748,
    "start_time": "2021-12-15T21:04:12.583Z"
   },
   {
    "duration": 1163,
    "start_time": "2021-12-15T21:04:15.318Z"
   },
   {
    "duration": 2776,
    "start_time": "2021-12-15T21:04:31.717Z"
   },
   {
    "duration": 4896,
    "start_time": "2021-12-15T21:04:43.895Z"
   },
   {
    "duration": 43975,
    "start_time": "2021-12-15T21:05:44.709Z"
   },
   {
    "duration": 51106,
    "start_time": "2021-12-15T21:06:51.895Z"
   },
   {
    "duration": 68189,
    "start_time": "2021-12-15T21:09:28.617Z"
   },
   {
    "duration": 226029,
    "start_time": "2021-12-15T21:10:49.676Z"
   },
   {
    "duration": 22891,
    "start_time": "2021-12-15T21:15:02.709Z"
   },
   {
    "duration": 1819,
    "start_time": "2021-12-15T21:15:27.389Z"
   },
   {
    "duration": 35629,
    "start_time": "2021-12-15T21:16:07.169Z"
   },
   {
    "duration": 4,
    "start_time": "2021-12-15T21:17:33.822Z"
   },
   {
    "duration": 23012,
    "start_time": "2021-12-15T21:18:37.587Z"
   },
   {
    "duration": 1632,
    "start_time": "2021-12-15T21:19:09.762Z"
   },
   {
    "duration": 1692,
    "start_time": "2021-12-15T21:19:39.301Z"
   },
   {
    "duration": 1656,
    "start_time": "2021-12-15T21:19:48.457Z"
   },
   {
    "duration": 43269,
    "start_time": "2021-12-15T21:20:27.335Z"
   },
   {
    "duration": 5,
    "start_time": "2021-12-15T21:21:22.984Z"
   },
   {
    "duration": 211772,
    "start_time": "2021-12-15T21:21:57.420Z"
   },
   {
    "duration": 12859,
    "start_time": "2021-12-15T21:26:11.737Z"
   },
   {
    "duration": 634,
    "start_time": "2021-12-15T21:26:31.074Z"
   },
   {
    "duration": 702,
    "start_time": "2021-12-15T21:26:42.792Z"
   },
   {
    "duration": 40939,
    "start_time": "2021-12-15T21:29:21.968Z"
   },
   {
    "duration": 4557,
    "start_time": "2021-12-15T21:30:06.547Z"
   },
   {
    "duration": 22646,
    "start_time": "2021-12-15T21:30:41.047Z"
   },
   {
    "duration": 1578,
    "start_time": "2021-12-15T21:31:09.143Z"
   },
   {
    "duration": 215,
    "start_time": "2021-12-15T21:32:38.721Z"
   },
   {
    "duration": 127,
    "start_time": "2021-12-15T21:32:39.404Z"
   },
   {
    "duration": 48252,
    "start_time": "2021-12-15T21:32:53.141Z"
   },
   {
    "duration": 25807,
    "start_time": "2021-12-15T21:33:41.395Z"
   },
   {
    "duration": 4710,
    "start_time": "2021-12-15T21:34:07.205Z"
   },
   {
    "duration": 1592,
    "start_time": "2021-12-15T21:34:11.917Z"
   },
   {
    "duration": 1124,
    "start_time": "2021-12-15T21:50:51.424Z"
   },
   {
    "duration": 760,
    "start_time": "2021-12-15T21:50:52.550Z"
   },
   {
    "duration": 14,
    "start_time": "2021-12-15T21:50:53.313Z"
   },
   {
    "duration": 130,
    "start_time": "2021-12-15T21:50:53.329Z"
   },
   {
    "duration": 407,
    "start_time": "2021-12-15T21:50:53.460Z"
   },
   {
    "duration": 59,
    "start_time": "2021-12-15T21:50:53.869Z"
   },
   {
    "duration": 283,
    "start_time": "2021-12-15T21:50:53.930Z"
   },
   {
    "duration": 131,
    "start_time": "2021-12-15T21:50:54.215Z"
   },
   {
    "duration": 2,
    "start_time": "2021-12-15T21:50:54.348Z"
   },
   {
    "duration": 104,
    "start_time": "2021-12-15T21:50:54.352Z"
   },
   {
    "duration": 223,
    "start_time": "2021-12-15T21:50:54.457Z"
   },
   {
    "duration": 14,
    "start_time": "2021-12-15T21:50:54.683Z"
   },
   {
    "duration": 62,
    "start_time": "2021-12-15T21:50:54.699Z"
   },
   {
    "duration": 184,
    "start_time": "2021-12-15T21:50:54.762Z"
   },
   {
    "duration": 10,
    "start_time": "2021-12-15T21:50:54.948Z"
   },
   {
    "duration": 87,
    "start_time": "2021-12-15T21:50:54.960Z"
   },
   {
    "duration": 237,
    "start_time": "2021-12-15T21:50:55.049Z"
   },
   {
    "duration": 171,
    "start_time": "2021-12-15T21:50:55.291Z"
   },
   {
    "duration": 104,
    "start_time": "2021-12-15T21:50:55.464Z"
   },
   {
    "duration": 993,
    "start_time": "2021-12-15T21:50:55.570Z"
   },
   {
    "duration": 214,
    "start_time": "2021-12-15T21:50:56.564Z"
   },
   {
    "duration": 179,
    "start_time": "2021-12-15T21:50:56.780Z"
   },
   {
    "duration": 302,
    "start_time": "2021-12-15T21:50:56.963Z"
   },
   {
    "duration": 154,
    "start_time": "2021-12-15T21:50:57.267Z"
   },
   {
    "duration": 16,
    "start_time": "2021-12-15T21:50:57.423Z"
   },
   {
    "duration": 78,
    "start_time": "2021-12-15T21:50:57.440Z"
   },
   {
    "duration": 72,
    "start_time": "2021-12-15T21:50:57.520Z"
   },
   {
    "duration": 66,
    "start_time": "2021-12-15T21:50:57.594Z"
   },
   {
    "duration": 185,
    "start_time": "2021-12-15T21:50:57.662Z"
   },
   {
    "duration": 529,
    "start_time": "2021-12-15T21:50:57.849Z"
   },
   {
    "duration": 17,
    "start_time": "2021-12-15T21:50:58.380Z"
   },
   {
    "duration": 127,
    "start_time": "2021-12-15T21:50:58.398Z"
   },
   {
    "duration": 749,
    "start_time": "2021-12-15T21:50:58.526Z"
   },
   {
    "duration": 1200,
    "start_time": "2021-12-15T21:50:59.277Z"
   },
   {
    "duration": 2871,
    "start_time": "2021-12-15T21:51:00.479Z"
   },
   {
    "duration": 4997,
    "start_time": "2021-12-15T21:51:03.351Z"
   },
   {
    "duration": 45584,
    "start_time": "2021-12-15T21:51:08.349Z"
   },
   {
    "duration": 52381,
    "start_time": "2021-12-15T21:51:53.934Z"
   },
   {
    "duration": 3,
    "start_time": "2021-12-15T21:52:46.317Z"
   },
   {
    "duration": 6580,
    "start_time": "2021-12-15T21:52:46.321Z"
   },
   {
    "duration": 38928,
    "start_time": "2021-12-15T21:52:52.903Z"
   },
   {
    "duration": 177896,
    "start_time": "2021-12-15T21:53:31.833Z"
   },
   {
    "duration": 40876,
    "start_time": "2021-12-15T21:56:29.731Z"
   },
   {
    "duration": 24901,
    "start_time": "2021-12-15T21:57:10.691Z"
   },
   {
    "duration": 4597,
    "start_time": "2021-12-15T21:57:35.594Z"
   },
   {
    "duration": 1600,
    "start_time": "2021-12-15T21:57:40.193Z"
   },
   {
    "duration": 7,
    "start_time": "2021-12-15T21:57:41.795Z"
   },
   {
    "duration": 1545,
    "start_time": "2021-12-17T18:29:51.548Z"
   },
   {
    "duration": 1125,
    "start_time": "2021-12-17T18:29:54.517Z"
   },
   {
    "duration": 26,
    "start_time": "2021-12-17T18:29:55.644Z"
   },
   {
    "duration": 161,
    "start_time": "2021-12-17T18:29:56.133Z"
   },
   {
    "duration": 731,
    "start_time": "2021-12-17T18:29:57.948Z"
   },
   {
    "duration": 77,
    "start_time": "2021-12-17T18:29:58.912Z"
   },
   {
    "duration": 365,
    "start_time": "2021-12-17T18:30:22.356Z"
   },
   {
    "duration": 185,
    "start_time": "2021-12-17T18:30:23.202Z"
   },
   {
    "duration": 4,
    "start_time": "2021-12-17T18:30:24.338Z"
   },
   {
    "duration": 126,
    "start_time": "2021-12-17T18:30:24.936Z"
   },
   {
    "duration": 342,
    "start_time": "2021-12-17T18:30:26.014Z"
   },
   {
    "duration": 13,
    "start_time": "2021-12-17T18:30:27.153Z"
   },
   {
    "duration": 93,
    "start_time": "2021-12-17T18:30:28.041Z"
   },
   {
    "duration": 252,
    "start_time": "2021-12-17T18:30:28.896Z"
   },
   {
    "duration": 10,
    "start_time": "2021-12-17T18:30:29.916Z"
   },
   {
    "duration": 102,
    "start_time": "2021-12-17T18:30:30.228Z"
   },
   {
    "duration": 337,
    "start_time": "2021-12-17T18:30:30.493Z"
   },
   {
    "duration": 274,
    "start_time": "2021-12-17T18:30:31.255Z"
   },
   {
    "duration": 164,
    "start_time": "2021-12-17T18:30:31.783Z"
   },
   {
    "duration": 1428,
    "start_time": "2021-12-17T18:30:31.949Z"
   },
   {
    "duration": 307,
    "start_time": "2021-12-17T18:30:33.380Z"
   },
   {
    "duration": 288,
    "start_time": "2021-12-17T18:30:33.690Z"
   },
   {
    "duration": 438,
    "start_time": "2021-12-17T18:30:33.981Z"
   },
   {
    "duration": 242,
    "start_time": "2021-12-17T18:30:34.422Z"
   },
   {
    "duration": 29,
    "start_time": "2021-12-17T18:30:34.667Z"
   },
   {
    "duration": 92,
    "start_time": "2021-12-17T18:30:34.699Z"
   },
   {
    "duration": 91,
    "start_time": "2021-12-17T18:30:34.794Z"
   },
   {
    "duration": 95,
    "start_time": "2021-12-17T18:30:36.853Z"
   },
   {
    "duration": 219,
    "start_time": "2021-12-17T18:30:37.778Z"
   },
   {
    "duration": 451,
    "start_time": "2021-12-17T18:31:36.576Z"
   },
   {
    "duration": 1454,
    "start_time": "2021-12-17T18:32:03.533Z"
   },
   {
    "duration": 23,
    "start_time": "2021-12-17T18:32:47.579Z"
   },
   {
    "duration": 102,
    "start_time": "2021-12-17T18:32:49.582Z"
   },
   {
    "duration": 968,
    "start_time": "2021-12-17T18:32:51.141Z"
   },
   {
    "duration": 345,
    "start_time": "2021-12-17T18:33:54.122Z"
   },
   {
    "duration": 1496,
    "start_time": "2021-12-17T18:34:04.095Z"
   },
   {
    "duration": 5,
    "start_time": "2021-12-17T18:34:13.523Z"
   },
   {
    "duration": 267,
    "start_time": "2021-12-17T18:34:17.596Z"
   },
   {
    "duration": 1502,
    "start_time": "2021-12-17T18:36:51.654Z"
   },
   {
    "duration": 1528,
    "start_time": "2021-12-17T18:37:28.851Z"
   },
   {
    "duration": 3740,
    "start_time": "2021-12-17T18:40:42.221Z"
   },
   {
    "duration": 7246,
    "start_time": "2021-12-17T18:41:01.610Z"
   },
   {
    "duration": 65094,
    "start_time": "2021-12-17T18:42:44.287Z"
   },
   {
    "duration": 71392,
    "start_time": "2021-12-17T18:44:41.019Z"
   },
   {
    "duration": 286,
    "start_time": "2021-12-17T18:46:02.960Z"
   },
   {
    "duration": 4,
    "start_time": "2021-12-17T18:46:07.204Z"
   },
   {
    "duration": 11037,
    "start_time": "2021-12-17T18:46:07.586Z"
   },
   {
    "duration": 50941,
    "start_time": "2021-12-17T18:46:21.876Z"
   },
   {
    "duration": 298347,
    "start_time": "2021-12-17T18:47:12.821Z"
   },
   {
    "duration": 98,
    "start_time": "2021-12-17T18:52:35.497Z"
   },
   {
    "duration": 77763,
    "start_time": "2021-12-17T18:52:40.965Z"
   },
   {
    "duration": 6312,
    "start_time": "2021-12-17T18:54:15.030Z"
   },
   {
    "duration": 6313,
    "start_time": "2021-12-17T18:54:25.413Z"
   },
   {
    "duration": 3,
    "start_time": "2021-12-17T18:54:35.213Z"
   },
   {
    "duration": 4,
    "start_time": "2021-12-17T18:54:40.230Z"
   },
   {
    "duration": 6269,
    "start_time": "2021-12-17T18:54:56.783Z"
   },
   {
    "duration": 6287,
    "start_time": "2021-12-17T18:55:13.953Z"
   },
   {
    "duration": 275,
    "start_time": "2021-12-17T18:55:22.910Z"
   },
   {
    "duration": 4,
    "start_time": "2021-12-17T18:55:27.594Z"
   },
   {
    "duration": 1566,
    "start_time": "2021-12-17T19:03:12.509Z"
   },
   {
    "duration": 1106,
    "start_time": "2021-12-17T19:03:14.077Z"
   },
   {
    "duration": 37,
    "start_time": "2021-12-17T19:03:15.187Z"
   },
   {
    "duration": 173,
    "start_time": "2021-12-17T19:03:15.227Z"
   },
   {
    "duration": 853,
    "start_time": "2021-12-17T19:03:15.403Z"
   },
   {
    "duration": 87,
    "start_time": "2021-12-17T19:03:16.259Z"
   },
   {
    "duration": 368,
    "start_time": "2021-12-17T19:03:16.349Z"
   },
   {
    "duration": 187,
    "start_time": "2021-12-17T19:03:16.720Z"
   },
   {
    "duration": 6,
    "start_time": "2021-12-17T19:03:16.911Z"
   },
   {
    "duration": 139,
    "start_time": "2021-12-17T19:03:16.920Z"
   },
   {
    "duration": 348,
    "start_time": "2021-12-17T19:03:17.061Z"
   },
   {
    "duration": 15,
    "start_time": "2021-12-17T19:03:17.417Z"
   },
   {
    "duration": 116,
    "start_time": "2021-12-17T19:03:17.434Z"
   },
   {
    "duration": 265,
    "start_time": "2021-12-17T19:03:17.552Z"
   },
   {
    "duration": 10,
    "start_time": "2021-12-17T19:03:17.819Z"
   },
   {
    "duration": 116,
    "start_time": "2021-12-17T19:03:17.831Z"
   },
   {
    "duration": 328,
    "start_time": "2021-12-17T19:03:17.950Z"
   },
   {
    "duration": 275,
    "start_time": "2021-12-17T19:03:18.281Z"
   },
   {
    "duration": 169,
    "start_time": "2021-12-17T19:03:18.559Z"
   },
   {
    "duration": 1511,
    "start_time": "2021-12-17T19:03:18.731Z"
   },
   {
    "duration": 277,
    "start_time": "2021-12-17T19:03:20.244Z"
   },
   {
    "duration": 286,
    "start_time": "2021-12-17T19:03:20.523Z"
   },
   {
    "duration": 426,
    "start_time": "2021-12-17T19:03:20.814Z"
   },
   {
    "duration": 236,
    "start_time": "2021-12-17T19:03:21.243Z"
   },
   {
    "duration": 41,
    "start_time": "2021-12-17T19:03:21.482Z"
   },
   {
    "duration": 92,
    "start_time": "2021-12-17T19:03:21.525Z"
   },
   {
    "duration": 85,
    "start_time": "2021-12-17T19:03:21.619Z"
   },
   {
    "duration": 100,
    "start_time": "2021-12-17T19:03:21.717Z"
   },
   {
    "duration": 212,
    "start_time": "2021-12-17T19:03:21.819Z"
   },
   {
    "duration": 1484,
    "start_time": "2021-12-17T19:03:22.034Z"
   },
   {
    "duration": 24,
    "start_time": "2021-12-17T19:03:23.521Z"
   },
   {
    "duration": 128,
    "start_time": "2021-12-17T19:03:23.547Z"
   },
   {
    "duration": 1026,
    "start_time": "2021-12-17T19:03:23.678Z"
   },
   {
    "duration": 1760,
    "start_time": "2021-12-17T19:03:24.706Z"
   },
   {
    "duration": 4183,
    "start_time": "2021-12-17T19:03:26.468Z"
   },
   {
    "duration": 6954,
    "start_time": "2021-12-17T19:03:30.654Z"
   },
   {
    "duration": 67544,
    "start_time": "2021-12-17T19:03:37.616Z"
   },
   {
    "duration": 71506,
    "start_time": "2021-12-17T19:04:45.162Z"
   },
   {
    "duration": 3,
    "start_time": "2021-12-17T19:05:56.671Z"
   },
   {
    "duration": 13162,
    "start_time": "2021-12-17T19:05:56.676Z"
   },
   {
    "duration": 57577,
    "start_time": "2021-12-17T19:06:09.841Z"
   },
   {
    "duration": 281909,
    "start_time": "2021-12-17T19:07:07.421Z"
   },
   {
    "duration": 58387,
    "start_time": "2021-12-17T19:11:49.332Z"
   },
   {
    "duration": 27909,
    "start_time": "2021-12-17T19:12:47.721Z"
   },
   {
    "duration": 6100,
    "start_time": "2021-12-17T19:13:15.633Z"
   },
   {
    "duration": 4,
    "start_time": "2021-12-17T19:13:21.735Z"
   },
   {
    "duration": 2906,
    "start_time": "2021-12-17T19:13:21.742Z"
   },
   {
    "duration": 8,
    "start_time": "2021-12-17T19:13:24.651Z"
   },
   {
    "duration": 2907,
    "start_time": "2021-12-17T19:14:41.219Z"
   },
   {
    "duration": 5966,
    "start_time": "2021-12-17T19:14:44.951Z"
   },
   {
    "duration": 42,
    "start_time": "2021-12-17T19:15:15.794Z"
   },
   {
    "duration": 3022,
    "start_time": "2021-12-17T19:15:23.999Z"
   },
   {
    "duration": 6,
    "start_time": "2021-12-17T19:15:33.586Z"
   },
   {
    "duration": 23774,
    "start_time": "2021-12-17T19:16:56.662Z"
   },
   {
    "duration": 4,
    "start_time": "2021-12-17T19:17:28.132Z"
   },
   {
    "duration": 5,
    "start_time": "2021-12-17T19:17:35.317Z"
   },
   {
    "duration": 23609,
    "start_time": "2021-12-17T19:18:22.224Z"
   },
   {
    "duration": 437,
    "start_time": "2021-12-17T19:18:45.836Z"
   },
   {
    "duration": 275,
    "start_time": "2021-12-17T19:18:53.478Z"
   },
   {
    "duration": 3,
    "start_time": "2021-12-17T19:19:05.133Z"
   },
   {
    "duration": 6,
    "start_time": "2021-12-17T19:19:10.037Z"
   },
   {
    "duration": 5,
    "start_time": "2021-12-17T19:19:19.017Z"
   },
   {
    "duration": 5,
    "start_time": "2021-12-17T19:19:27.420Z"
   },
   {
    "duration": 229597,
    "start_time": "2021-12-17T19:20:37.393Z"
   },
   {
    "duration": 84,
    "start_time": "2021-12-17T19:24:26.909Z"
   },
   {
    "duration": 82,
    "start_time": "2021-12-17T19:24:26.913Z"
   },
   {
    "duration": 80,
    "start_time": "2021-12-17T19:24:26.916Z"
   },
   {
    "duration": 77,
    "start_time": "2021-12-17T19:24:26.921Z"
   },
   {
    "duration": 91608,
    "start_time": "2021-12-17T19:24:28.823Z"
   },
   {
    "duration": 28592,
    "start_time": "2021-12-17T19:26:00.434Z"
   },
   {
    "duration": 6091,
    "start_time": "2021-12-17T19:26:29.029Z"
   },
   {
    "duration": 3113,
    "start_time": "2021-12-17T19:26:35.122Z"
   },
   {
    "duration": 3223,
    "start_time": "2021-12-17T19:26:38.237Z"
   },
   {
    "duration": 16,
    "start_time": "2021-12-18T10:59:26.096Z"
   },
   {
    "duration": 6,
    "start_time": "2021-12-18T11:01:53.192Z"
   }
  ],
  "kernelspec": {
   "display_name": "Python 3 (ipykernel)",
   "language": "python",
   "name": "python3"
  },
  "language_info": {
   "codemirror_mode": {
    "name": "ipython",
    "version": 3
   },
   "file_extension": ".py",
   "mimetype": "text/x-python",
   "name": "python",
   "nbconvert_exporter": "python",
   "pygments_lexer": "ipython3",
   "version": "3.8.8"
  },
  "toc": {
   "base_numbering": 1,
   "nav_menu": {},
   "number_sections": true,
   "sideBar": true,
   "skip_h1_title": true,
   "title_cell": "Table of Contents",
   "title_sidebar": "Contents",
   "toc_cell": false,
   "toc_position": {},
   "toc_section_display": true,
   "toc_window_display": false
  }
 },
 "nbformat": 4,
 "nbformat_minor": 2
}
